{
  "nbformat": 4,
  "nbformat_minor": 0,
  "metadata": {
    "colab": {
      "provenance": []
    },
    "kernelspec": {
      "name": "python3",
      "display_name": "Python 3"
    },
    "language_info": {
      "name": "python"
    }
  },
  "cells": [
    {
      "cell_type": "code",
      "source": [
        "import re\n",
        "\n",
        "# Given dataset\n",
        "dataset = \"\"\"\n",
        "Name: Premanand S\n",
        "Email: premanand.s@vit.ac.in\n",
        "Phone: (+91) 7358679961\n",
        "Address: School of Electronics Engineering, Vellore Institute of Technology, Chennai 127\n",
        "Date of Birth: 20/10/1987\n",
        "\"\"\"\n",
        "\n",
        "# Task 1: Extract Names\n",
        "names = re.findall(r'Name: (.+)', dataset)\n",
        "\n",
        "# Task 2: Extract Email Addresses\n",
        "emails = re.findall(r'Email: (.+)', dataset)\n",
        "\n",
        "# Task 3: Extract Phone Numbers\n",
        "phone_numbers = re.findall(r'Phone: (.+)', dataset)\n",
        "\n",
        "# Task 4: Extract Addresses\n",
        "addresses = re.findall(r'Address: (.+)', dataset)\n",
        "\n",
        "# Task 5: Extract Dates of Birth\n",
        "dates_of_birth = re.findall(r'Date of Birth: (.+)', dataset)\n",
        "\n",
        "# Display the extracted information\n",
        "print(\"Names:\", names)\n",
        "print(\"Email Addresses:\", emails)\n",
        "print(\"Phone Numbers:\", phone_numbers)\n",
        "print(\"Addresses:\", addresses)\n",
        "print(\"Dates of Birth:\", dates_of_birth)"
      ],
      "metadata": {
        "colab": {
          "base_uri": "https://localhost:8080/"
        },
        "id": "eU4mVg-pBhs7",
        "outputId": "5edbc2cf-fc23-45b6-f3cc-fba97119401a"
      },
      "execution_count": 1,
      "outputs": [
        {
          "output_type": "stream",
          "name": "stdout",
          "text": [
            "Names: ['Premanand S']\n",
            "Email Addresses: ['premanand.s@vit.ac.in']\n",
            "Phone Numbers: ['(+91) 7358679961']\n",
            "Addresses: ['School of Electronics Engineering, Vellore Institute of Technology, Chennai 127']\n",
            "Dates of Birth: ['20/10/1987']\n"
          ]
        }
      ]
    },
    {
      "cell_type": "code",
      "source": [
        "import re\n",
        "\n",
        "# Sample list of strings\n",
        "strings = [\n",
        "    \"The cat is on the mat\",\n",
        "    \"apple Banana cherry\",\n",
        "    \"python_class@example.com\",\n",
        "    \"12345 is a number\",\n",
        "    \"NoSpacesHere\",\n",
        "]\n",
        "\n",
        "# Task 1: Match all strings that contain the word \"cat\" (case insensitive).\n",
        "pattern1 = r\"(?i)cat\"\n",
        "matches1 = [string for string in strings if re.search(pattern1, string)]\n",
        "\n",
        "# Task 2: Match all strings that start with an uppercase letter followed by one or more lowercase letters.\n",
        "pattern2 = r\"^[A-Z][a-z]+\"\n",
        "matches2 = [string for string in strings if re.search(pattern2, string)]\n",
        "\n",
        "# Task 3: Match all strings that represent valid email addresses.\n",
        "pattern3 = r\"[\\w\\.-]+@[\\w\\.-]+\"\n",
        "matches3 = [string for string in strings if re.search(pattern3, string)]\n",
        "\n",
        "# Task 4: Match all strings that contain a sequence of three or more consecutive digits.\n",
        "pattern4 = r\"\\d{3,}\"\n",
        "matches4 = [string for string in strings if re.search(pattern4, string)]\n",
        "\n",
        "# Task 5: Match all strings that do not contain any whitespace characters.\n",
        "pattern5 = r\"^\\S+$\"\n",
        "matches5 = [string for string in strings if re.search(pattern5, string)]\n",
        "\n",
        "print(\"Task 1 Matches:\", matches1)\n",
        "print(\"Task 2 Matches:\", matches2)\n",
        "print(\"Task 3 Matches:\", matches3)\n",
        "print(\"Task 4 Matches:\", matches4)\n",
        "print(\"Task 5 Matches:\", matches5)\n"
      ],
      "metadata": {
        "colab": {
          "base_uri": "https://localhost:8080/"
        },
        "id": "rPyK5DZ6CKcm",
        "outputId": "c467a22a-e79c-45b7-9713-a40c2f83340b"
      },
      "execution_count": 3,
      "outputs": [
        {
          "output_type": "stream",
          "name": "stdout",
          "text": [
            "Task 1 Matches: ['The cat is on the mat']\n",
            "Task 2 Matches: ['The cat is on the mat', 'NoSpacesHere']\n",
            "Task 3 Matches: ['python_class@example.com']\n",
            "Task 4 Matches: ['12345 is a number']\n",
            "Task 5 Matches: ['python_class@example.com', 'NoSpacesHere']\n"
          ]
        }
      ]
    }
  ]
}