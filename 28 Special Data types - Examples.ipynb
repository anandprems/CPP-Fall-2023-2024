{
 "cells": [
  {
   "cell_type": "markdown",
   "id": "03ac4647",
   "metadata": {},
   "source": [
    "# Data types"
   ]
  },
  {
   "cell_type": "markdown",
   "id": "e6705c45",
   "metadata": {},
   "source": [
    "# #Numbers"
   ]
  },
  {
   "cell_type": "code",
   "execution_count": null,
   "id": "b73adb79",
   "metadata": {},
   "outputs": [],
   "source": [
    "a = 23\n",
    "print(a, \"is of type\", type(a))\n",
    "\n",
    "b = 103.65\n",
    "print(b, \"is of type\", type(b))\n",
    "\n",
    "c = 1356+224j\n",
    "print(c, \"is complex number?\", isinstance(c,complex))\n"
   ]
  },
  {
   "cell_type": "code",
   "execution_count": null,
   "id": "320210b3",
   "metadata": {},
   "outputs": [],
   "source": [
    "d = 23.5\n",
    "print(d, \"is complex number?\", isinstance(23.5,complex))"
   ]
  },
  {
   "cell_type": "code",
   "execution_count": null,
   "id": "a5760750",
   "metadata": {},
   "outputs": [],
   "source": [
    "#long int number\n",
    "e = 1234567890123456789987987879879798789\n",
    "print(e)\n",
    "\n",
    "#long float value is truncated\n",
    "f = 0.123456789012345678945462679\n",
    "print(f)"
   ]
  },
  {
   "cell_type": "markdown",
   "id": "b0d3c516",
   "metadata": {},
   "source": [
    "# Strings"
   ]
  },
  {
   "cell_type": "code",
   "execution_count": null,
   "id": "91fa52e1",
   "metadata": {},
   "outputs": [],
   "source": [
    "# defining strings in Python\n",
    "# all of the following are equivalent\n",
    "my_string = 'hello pythonista!'\n",
    "print(my_string)\n",
    "\n",
    "my_string = \"hello pythonista!\"\n",
    "print(my_string)\n",
    "\n",
    "my_string = '''hello pythonista!'''\n",
    "print(my_string)\n",
    "\n",
    "# triple quotes string can extend multiple lines\n",
    "my_string = \"\"\"Hello, all, \n",
    "                         hello pythonista!\"\"\"\n",
    "print(my_string)"
   ]
  },
  {
   "cell_type": "code",
   "execution_count": null,
   "id": "731d46ef",
   "metadata": {},
   "outputs": [],
   "source": [
    "#Accessing string characters in Python\n",
    "str = 'pythonista'  \n",
    "print('str = ', str)\n",
    "\n",
    "print('str[0] = ', str[0]) #0123456789 --> -3-2-1\n",
    "\n",
    "print('str[-1] = ', str[-1])\n",
    "\n",
    "print('str[1:5] = ', str[1:6])\n",
    "\n",
    "print('str[5:-2] = ', str[5:-2])\n",
    "\n",
    "print(str[10]) #should be in range"
   ]
  },
  {
   "cell_type": "code",
   "execution_count": null,
   "id": "c3b19f5d",
   "metadata": {},
   "outputs": [],
   "source": [
    "print(str[2.5]) #no float options"
   ]
  },
  {
   "cell_type": "code",
   "execution_count": null,
   "id": "0dbdfae9",
   "metadata": {},
   "outputs": [],
   "source": [
    "my_string ='premanand'\n",
    "my_string[6] = 9"
   ]
  },
  {
   "cell_type": "code",
   "execution_count": null,
   "id": "a3bfd724",
   "metadata": {},
   "outputs": [],
   "source": [
    "del my_string[1]"
   ]
  },
  {
   "cell_type": "code",
   "execution_count": null,
   "id": "49ad3bad",
   "metadata": {},
   "outputs": [],
   "source": [
    "del my_string # shift + deleted \n",
    "print(my_string) #my_string deleted"
   ]
  },
  {
   "cell_type": "code",
   "execution_count": null,
   "id": "a65182f4",
   "metadata": {},
   "outputs": [],
   "source": [
    "# Python String Operations\n",
    "str1 = 'Hello'\n",
    "str2 ='World!'\n",
    "\n",
    "# using +\n",
    "print('str1 + str2 = ', str1 + str2)\n",
    "\n",
    "# using *\n",
    "print('str1 * 3 =', str1 * 4)"
   ]
  },
  {
   "cell_type": "code",
   "execution_count": null,
   "id": "5376cbb1",
   "metadata": {},
   "outputs": [],
   "source": [
    "#two literals together - concatenation\n",
    "'prem''anand'"
   ]
  },
  {
   "cell_type": "code",
   "execution_count": null,
   "id": "08a75e23",
   "metadata": {},
   "outputs": [],
   "source": [
    "#using () - concatenation\n",
    "name = ('prem''anand')\n",
    "name"
   ]
  },
  {
   "cell_type": "markdown",
   "id": "5f781349",
   "metadata": {},
   "source": [
    "# List"
   ]
  },
  {
   "cell_type": "code",
   "execution_count": null,
   "id": "98d56532",
   "metadata": {},
   "outputs": [],
   "source": [
    "#list \n",
    "#list_data = [data types]"
   ]
  },
  {
   "cell_type": "code",
   "execution_count": null,
   "id": "b06ca05f",
   "metadata": {},
   "outputs": [],
   "source": [
    "#list - elaborate meaning\n",
    "my_list =[]\n",
    "\n",
    "#list with numbers\n",
    "my_list_num = [2,3,4,5]\n",
    "\n",
    "#list with mixed numbers\n",
    "my_list_mix_numbers = [2,3.5,4,56.8,2+5j]\n",
    "\n",
    "#list with strings\n",
    "my_list_strings = ['hi','how','are','you','?']\n",
    "\n",
    "#list with mixed data types\n",
    "my_list_mixed_data = ['we',2022, 5.0,2+6j, 2654789]\n",
    "\n",
    "print(my_list)\n",
    "print(my_list_num)\n",
    "print(my_list_mix_numbers)\n",
    "print(my_list_strings)\n",
    "print(my_list_mixed_data)"
   ]
  },
  {
   "cell_type": "code",
   "execution_count": null,
   "id": "c3854d71",
   "metadata": {},
   "outputs": [],
   "source": [
    "#list - mutable \n",
    "greetings= ['happy', 'newyear', 'wishes']\n",
    "greetings[1] = '2022'\n",
    "print(greetings)"
   ]
  },
  {
   "cell_type": "code",
   "execution_count": null,
   "id": "818df1ba",
   "metadata": {},
   "outputs": [],
   "source": [
    "#how to extract a particular or set of items from list\n",
    "list_num = [2,4,5,6,7,32,57,9,265,89,65,41,653]\n",
    "\n",
    "# extracting first value - 2\n",
    "print(\"list_num[0] = \", list_num[0])\n",
    "\n",
    "# extracting 4,5,6 values alone\n",
    "print(\"list_num[1:4] = \", list_num[1:4])\n",
    "\n",
    "# extracting last 5 values\n",
    "print(\"list_num[8:] = \", list_num[-5:])\n"
   ]
  },
  {
   "cell_type": "code",
   "execution_count": null,
   "id": "d1c98857",
   "metadata": {},
   "outputs": [],
   "source": [
    "#nested list\n",
    "my_list_nested = [\"python\", ['feb', 2022], [2]]\n",
    "my_list_nested"
   ]
  },
  {
   "cell_type": "code",
   "execution_count": null,
   "id": "73914a2f",
   "metadata": {},
   "outputs": [],
   "source": [
    "#extract from nested list\n",
    "# Nested List\n",
    "my_list_n_list = [\"Happy\", [2, 0, 2, 2]]\n",
    "print(my_list_n_list)\n",
    "\n",
    "# Nested indexing - happy\n",
    "print(my_list_n_list[0][1])\n",
    "\n",
    "#nested indexing - 2022\n",
    "print(my_list_n_list[1][1])\n",
    "\n",
    "# Error! Only integer can be used for indexing\n",
    "print(my_list_n_list[4.0])"
   ]
  },
  {
   "cell_type": "code",
   "execution_count": null,
   "id": "7f36b5ea",
   "metadata": {},
   "outputs": [],
   "source": [
    "# List slicing in Python\n",
    "\n",
    "my_list_slicing = ['p','y','t','h','o','n','i','s','t','a']\n",
    "print(my_list_slicing)\n",
    "                   \n",
    "# elements from index 2 to index 4\n",
    "print(my_list_slicing[2:5])\n",
    "\n",
    "# elements from index 5 to end\n",
    "print(my_list_slicing[5:])\n",
    "\n",
    "# elements beginning to end\n",
    "print(my_list_slicing[:])"
   ]
  },
  {
   "cell_type": "code",
   "execution_count": null,
   "id": "0d3dbb4e",
   "metadata": {},
   "outputs": [],
   "source": [
    "#Add/Change List Elements\n",
    "# Correcting mistake values in a list\n",
    "my_num = [2, 4, 6, 8]\n",
    "print(my_num)\n",
    "\n",
    "# change the 1st item    \n",
    "my_num[0] = 1            \n",
    "\n",
    "print(my_num)\n",
    "\n",
    "# change 2nd to 4th items\n",
    "my_num[1:4] = [3, 5, 7]  \n",
    "\n",
    "print(my_num)                   "
   ]
  },
  {
   "cell_type": "code",
   "execution_count": null,
   "id": "05d6e7bf",
   "metadata": {},
   "outputs": [],
   "source": [
    "#list adding one items in a time or adding multiple items simultaneously\n",
    "# Appending and Extending lists in Python\n",
    "list_1 = [20, 658, 65, 9]\n",
    "print(list_1)\n",
    "list_1.append(657)\n",
    "\n",
    "print(list_1)\n",
    "\n",
    "list_1.extend([945, 611, 1093])\n",
    "\n",
    "print(list_1)"
   ]
  },
  {
   "cell_type": "code",
   "execution_count": null,
   "id": "2e65c2a7",
   "metadata": {},
   "outputs": [],
   "source": [
    "#list - concatenation by using + symbol\n",
    "# Concatenating and repeating lists\n",
    "list_2 = ['hi','welcome','2022']\n",
    "\n",
    "print(list_2 + [4,1,2022])\n",
    "\n",
    "\n",
    "#* symbol makes the list repeative multiple times\n",
    "print([\"be happy! and make others happy\"] * 3)"
   ]
  },
  {
   "cell_type": "code",
   "execution_count": null,
   "id": "3abca1e6",
   "metadata": {},
   "outputs": [],
   "source": [
    "#we can insert one item at a desired location by using the method insert()\n",
    "# Demonstration of list insert() method\n",
    "list_3 = [5, 6, 7, 3]\n",
    "list_3.insert(1,3)\n",
    "\n",
    "print(list_3)\n",
    "\n",
    "list_3[2:2] = [5, 7]\n",
    "\n",
    "print(list_3)"
   ]
  },
  {
   "cell_type": "code",
   "execution_count": null,
   "id": "7d2ce091",
   "metadata": {},
   "outputs": [],
   "source": [
    "# Deleting list items\n",
    "my_list = ['p', 'r', 'o', 'b', 'l', 'e', 'm']\n",
    "print(my_list)\n",
    "\n",
    "# delete one item\n",
    "del my_list[2]\n",
    "print(my_list)\n",
    "\n",
    "# delete multiple items\n",
    "del my_list[1:5]\n",
    "\n",
    "print(my_list)\n",
    "\n",
    "# delete the entire list\n",
    "del my_list\n",
    "\n",
    "# Error: List not defined\n",
    "print(my_list)"
   ]
  },
  {
   "cell_type": "code",
   "execution_count": null,
   "id": "b45724b6",
   "metadata": {},
   "outputs": [],
   "source": [
    "#list - pop(), clear() and remove() functions\n",
    "my_list = ['p','r','o','b','l','e','m']\n",
    "my_list.remove('p')\n",
    "\n",
    "# Output: ['r', 'o', 'b', 'l', 'e', 'm']\n",
    "print(my_list)\n",
    "\n",
    "# Output: 'o'\n",
    "print(my_list.pop(1))\n",
    "\n",
    "# Output: ['r', 'b', 'l', 'e', 'm']\n",
    "print(my_list)\n",
    "\n",
    "# Output: 'm'\n",
    "print(my_list.pop()) #last term\n",
    "\n",
    "# Output: ['r', 'b', 'l', 'e']\n",
    "print(my_list)\n",
    "\n",
    "my_list.clear()\n",
    "\n",
    "# Output: []\n",
    "print(my_list)"
   ]
  },
  {
   "cell_type": "markdown",
   "id": "630bf652",
   "metadata": {},
   "source": [
    "# Tuple"
   ]
  },
  {
   "cell_type": "code",
   "execution_count": null,
   "id": "5fda407d",
   "metadata": {},
   "outputs": [],
   "source": [
    "# Different types of tuples\n",
    "\n",
    "# Empty tuple\n",
    "my_tuple = ()\n",
    "print(my_tuple)\n",
    "\n",
    "# Tuple having integers\n",
    "my_tuple = (1, 2, 3)\n",
    "print(my_tuple)\n",
    "\n",
    "# tuple with mixed datatypes\n",
    "my_tuple = (1, \"Hello\", 3.4)\n",
    "print(my_tuple)\n",
    "\n",
    "# nested tuple\n",
    "my_tuple = (\"mouse\", [8, 4, 6], (1, 2, 3))\n",
    "print(my_tuple)"
   ]
  },
  {
   "cell_type": "code",
   "execution_count": null,
   "id": "0fbdab82",
   "metadata": {},
   "outputs": [],
   "source": [
    "#tuple packing \n",
    "my_tuple = 3, 4.6, \"dog\"\n",
    "print(my_tuple)\n",
    "\n",
    "# tuple unpacking is also possible\n",
    "a, b, c = my_tuple\n",
    "\n",
    "print(a)      # 3\n",
    "print(b)      # 4.6\n",
    "print(c)      # dog"
   ]
  },
  {
   "cell_type": "code",
   "execution_count": null,
   "id": "7500e27b",
   "metadata": {},
   "outputs": [],
   "source": [
    "my_tuple = (1)\n",
    "print(type(my_tuple))  \n",
    "\n",
    "# Creating a tuple having one element\n",
    "my_tuple = (\"hello\",)\n",
    "print(type(my_tuple))  \n",
    "\n",
    "# Parentheses is optional\n",
    "my_tuple = \"hello\"\n",
    "print(type(my_tuple))  "
   ]
  },
  {
   "cell_type": "code",
   "execution_count": null,
   "id": "64a8dabb",
   "metadata": {},
   "outputs": [],
   "source": [
    "#indexing\n",
    "# Accessing tuple elements using indexing\n",
    "my_tuple = ('p','e','r','m','i','t')\n",
    "\n",
    "print(my_tuple[0])   # 'p' \n",
    "print(my_tuple[5])   # 't'\n",
    "\n",
    "# IndexError: list index out of range\n",
    " print(my_tuple[6])\n",
    "\n",
    "# Index must be an integer\n",
    "# TypeError: list indices must be integers, not float\n",
    "my_tuple[2.0]\n",
    "\n",
    "# nested tuple\n",
    "n_tuple = (\"mouse\", [8, 4, 6], (1, 2, 3))\n",
    "\n",
    "# nested index\n",
    "print(n_tuple[0][3])       # 's'\n",
    "print(n_tuple[1][1])       # 4"
   ]
  },
  {
   "cell_type": "code",
   "execution_count": null,
   "id": "cd610b95",
   "metadata": {},
   "outputs": [],
   "source": [
    "#negative indexing\n",
    "# Negative indexing for accessing tuple elements\n",
    "my_tuple = ('p', 'e', 'r', 'm', 'i', 't')\n",
    "\n",
    "# Output: 't'\n",
    "print(my_tuple[-1])\n",
    "\n",
    "# Output: 'p'\n",
    "print(my_tuple[-6])"
   ]
  },
  {
   "cell_type": "code",
   "execution_count": null,
   "id": "08c0eec9",
   "metadata": {},
   "outputs": [],
   "source": [
    "#slicing\n",
    "# Accessing tuple elements using slicing\n",
    "my_tuple = ('p','r','e','m','a','n','a','n','d')\n",
    "print(my_tuple)\n",
    "\n",
    "# elements 2nd to 4th\n",
    "print(my_tuple[1:4])\n",
    "\n",
    "# elements beginning to 2nd\n",
    "print(my_tuple[:-7])\n",
    "\n",
    "# elements 8th to end\n",
    "print(my_tuple[7:])\n",
    "\n",
    "# elements beginning to end\n",
    "print(my_tuple[:])"
   ]
  },
  {
   "cell_type": "code",
   "execution_count": null,
   "id": "4005853d",
   "metadata": {},
   "outputs": [],
   "source": [
    "#Can we able to change the tuple value\n",
    "# Changing tuple values\n",
    "my_tuple = (4, 2, 3, [6, 5])\n",
    "\n",
    "# TypeError: 'tuple' object does not support item assignment\n",
    "my_tuple[1] = 9"
   ]
  },
  {
   "cell_type": "code",
   "execution_count": null,
   "id": "f34e7a25",
   "metadata": {},
   "outputs": [],
   "source": [
    "# However, item of mutable element can be changed\n",
    "my_tuple[3][0] = 9    \n",
    "print(my_tuple)"
   ]
  },
  {
   "cell_type": "code",
   "execution_count": null,
   "id": "eaf70d8c",
   "metadata": {},
   "outputs": [],
   "source": [
    "# Tuples can be reassigned\n",
    "my_tuple = ('p', 'r', 'o', 'g', 'r', 'a', 'm', 'i', 'z')\n",
    "print(my_tuple)"
   ]
  },
  {
   "cell_type": "code",
   "execution_count": null,
   "id": "65968712",
   "metadata": {},
   "outputs": [],
   "source": [
    "# Concatenation\n",
    "print((1, 2, 3) + (4, 5, 6))\n",
    "\n",
    "# Repeat\n",
    "print((\"Repeat\",) * 3)"
   ]
  },
  {
   "cell_type": "code",
   "execution_count": null,
   "id": "3dc98dfc",
   "metadata": {},
   "outputs": [],
   "source": [
    "#deleting tuple\n",
    "# Deleting tuples\n",
    "my_tuple = ('p', 'r', 'o', 'g', 'r', 'a', 'm', 'i', 'z')\n",
    "print(my_tuple)\n",
    "\n",
    "# can't delete items\n",
    "# TypeError: 'tuple' object doesn't support item deletion\n",
    "del my_tuple[3]\n"
   ]
  },
  {
   "cell_type": "code",
   "execution_count": null,
   "id": "134500ea",
   "metadata": {},
   "outputs": [],
   "source": [
    "# Can delete an entire tuple\n",
    "del my_tuple\n",
    "\n",
    "# NameError: name 'my_tuple' is not defined\n",
    "print(my_tuple)"
   ]
  },
  {
   "cell_type": "markdown",
   "id": "adf9424e",
   "metadata": {},
   "source": [
    "# SET"
   ]
  },
  {
   "cell_type": "code",
   "execution_count": null,
   "id": "d16cd7c5",
   "metadata": {},
   "outputs": [],
   "source": [
    "# Different types of sets in Python\n",
    "# set of integers\n",
    "my_set = {16, 20, 26, 8}\n",
    "print(my_set)\n",
    "\n",
    "# set of mixed datatypes\n",
    "my_set = {4, \"SPNK\", (16, 26, 8)}\n",
    "print(my_set)"
   ]
  },
  {
   "cell_type": "code",
   "execution_count": null,
   "id": "d9aa628e",
   "metadata": {},
   "outputs": [],
   "source": [
    "# set cannot have duplicates\n",
    "my_set = {1, 2, 3, 4, 3, 2}\n",
    "print(my_set)\n",
    "\n",
    "# we can make set from a list\n",
    "my_set = set([1, 2, 3, 2])\n",
    "print(my_set)\n",
    "\n",
    "# set cannot have mutable items\n",
    "# here [3, 4] is a mutable list\n",
    "# this will cause an error.\n",
    "\n",
    "my_set = {1, 2, [3, 4]}"
   ]
  },
  {
   "cell_type": "code",
   "execution_count": null,
   "id": "a868df39",
   "metadata": {},
   "outputs": [],
   "source": [
    "# Distinguish set and dictionary while creating empty set\n",
    "\n",
    "# initialize a with {}\n",
    "a = {}\n",
    "\n",
    "# check data type of a\n",
    "print(type(a))\n",
    "\n",
    "# initialize a with set()\n",
    "a = set()\n",
    "\n",
    "# check data type of a\n",
    "print(type(a))"
   ]
  },
  {
   "cell_type": "code",
   "execution_count": null,
   "id": "b1ee1889",
   "metadata": {},
   "outputs": [],
   "source": [
    "# initialize my_set\n",
    "my_set = {1, 3}\n",
    "print(my_set)\n",
    "\n",
    "my_set[0]\n",
    "# if you uncomment the above line\n",
    "# you will get an error\n",
    "# TypeError: 'set' object does not support indexing"
   ]
  },
  {
   "cell_type": "code",
   "execution_count": null,
   "id": "64034cbb",
   "metadata": {},
   "outputs": [],
   "source": [
    "# add an element\n",
    "my_set.add(2)\n",
    "print(my_set)\n",
    "\n",
    "# add multiple elements\n",
    "my_set.update([2, 3, 4])\n",
    "print(my_set)\n",
    "\n",
    "# add list and set\n",
    "my_set.update([4, 5], {1, 6, 8})\n",
    "print(my_set)"
   ]
  },
  {
   "cell_type": "code",
   "execution_count": null,
   "id": "924e6be4",
   "metadata": {},
   "outputs": [],
   "source": [
    "# Difference between discard() and remove()\n",
    "\n",
    "# initialize my_set\n",
    "my_set = {1, 3, 4, 5, 6}\n",
    "print(my_set)\n",
    "\n",
    "# discard an element\n",
    "# Output: {1, 3, 5, 6}\n",
    "my_set.discard(4)\n",
    "print(my_set)\n",
    "\n",
    "# remove an element\n",
    "# Output: {1, 3, 5}\n",
    "my_set.remove(6)\n",
    "print(my_set)\n",
    "\n",
    "# discard an element\n",
    "# not present in my_set\n",
    "# Output: {1, 3, 5}\n",
    "my_set.discard(2)\n",
    "print(my_set)\n",
    "\n",
    "# remove an element\n",
    "# not present in my_set\n",
    "# you will get an error.\n",
    "# Output: KeyError\n",
    "\n",
    "my_set.remove(2)"
   ]
  },
  {
   "cell_type": "code",
   "execution_count": null,
   "id": "4f5d0df4",
   "metadata": {},
   "outputs": [],
   "source": [
    "# initialize my_set\n",
    "# Output: set of unique elements\n",
    "my_set = set(\"HelloWorld\")\n",
    "print(my_set)\n",
    "\n",
    "# pop another element\n",
    "my_set.pop()\n",
    "print(my_set)\n",
    "\n",
    "# clear my_set\n",
    "# Output: set()\n",
    "my_set.clear()\n",
    "print(my_set)"
   ]
  },
  {
   "cell_type": "code",
   "execution_count": null,
   "id": "0737c5c9",
   "metadata": {},
   "outputs": [],
   "source": [
    "#union operations\n",
    "# Set union method\n",
    "# initialize A and B\n",
    "A = {1, 2, 3, 4, 5}\n",
    "B = {4, 5, 6, 7, 8}\n",
    "\n",
    "# use | operator\n",
    "# Output: {1, 2, 3, 4, 5, 6, 7, 8}\n",
    "print(A | B)"
   ]
  },
  {
   "cell_type": "code",
   "execution_count": null,
   "id": "722659d7",
   "metadata": {},
   "outputs": [],
   "source": [
    "# use union function\n",
    "A.union(B)\n",
    "{1, 2, 3, 4, 5, 6, 7, 8}\n",
    "\n",
    "# use union function on B\n",
    "B.union(A)\n",
    "{1, 2, 3, 4, 5, 6, 7, 8}"
   ]
  },
  {
   "cell_type": "code",
   "execution_count": null,
   "id": "41a8e929",
   "metadata": {},
   "outputs": [],
   "source": [
    "#intersection\n",
    "# Intersection of sets\n",
    "# initialize A and B\n",
    "A = {1, 2, 3, 4, 5}\n",
    "B = {4, 5, 6, 7, 8}\n",
    "\n",
    "# use & operator\n",
    "# Output: {4, 5}\n",
    "print(A & B)"
   ]
  },
  {
   "cell_type": "code",
   "execution_count": null,
   "id": "a24743a8",
   "metadata": {},
   "outputs": [],
   "source": [
    "A.intersection(B)\n",
    "B.intersection(A)"
   ]
  },
  {
   "cell_type": "code",
   "execution_count": null,
   "id": "cbeeb5ec",
   "metadata": {},
   "outputs": [],
   "source": [
    "# Difference of two sets\n",
    "# initialize A and B\n",
    "A = {1, 2, 3, 4, 5}\n",
    "B = {4, 5, 6, 7, 8}\n",
    "\n",
    "# use - operator on A\n",
    "# Output: {1, 2, 3}\n",
    "print(A - B)"
   ]
  },
  {
   "cell_type": "code",
   "execution_count": null,
   "id": "eb10656b",
   "metadata": {},
   "outputs": [],
   "source": [
    "A.difference(B)"
   ]
  },
  {
   "cell_type": "code",
   "execution_count": null,
   "id": "637da1fe",
   "metadata": {},
   "outputs": [],
   "source": [
    " B - A"
   ]
  },
  {
   "cell_type": "code",
   "execution_count": null,
   "id": "d5e265d1",
   "metadata": {},
   "outputs": [],
   "source": [
    "B.difference(A)"
   ]
  },
  {
   "cell_type": "code",
   "execution_count": null,
   "id": "ec9ab450",
   "metadata": {},
   "outputs": [],
   "source": [
    "# Symmetric difference of two sets\n",
    "# initialize A and B\n",
    "A = {1, 2, 3, 4, 5}\n",
    "B = {4, 5, 6, 7, 8}\n",
    "\n",
    "# use ^ operator\n",
    "# Output: {1, 2, 3, 6, 7, 8}\n",
    "print(A ^ B)"
   ]
  },
  {
   "cell_type": "code",
   "execution_count": null,
   "id": "05d4c021",
   "metadata": {},
   "outputs": [],
   "source": [
    "A.symmetric_difference(B)"
   ]
  },
  {
   "cell_type": "code",
   "execution_count": null,
   "id": "7003e2c6",
   "metadata": {},
   "outputs": [],
   "source": [
    "B.symmetric_difference(A)"
   ]
  },
  {
   "cell_type": "markdown",
   "id": "8d5f052e",
   "metadata": {},
   "source": [
    "# Dictionary"
   ]
  },
  {
   "cell_type": "code",
   "execution_count": null,
   "id": "e84b47cc",
   "metadata": {},
   "outputs": [],
   "source": [
    "d = {1:'value','key':2}"
   ]
  },
  {
   "cell_type": "code",
   "execution_count": null,
   "id": "116423cf",
   "metadata": {},
   "outputs": [],
   "source": [
    "d"
   ]
  },
  {
   "cell_type": "code",
   "execution_count": null,
   "id": "9bae71f1",
   "metadata": {},
   "outputs": [],
   "source": [
    "type(d)"
   ]
  },
  {
   "cell_type": "code",
   "execution_count": null,
   "id": "40f72254",
   "metadata": {},
   "outputs": [],
   "source": [
    "# empty dictionary\n",
    "my_dict = {}\n",
    "print(my_dict)\n",
    "\n",
    "# dictionary with integer keys\n",
    "my_dict = {1: 'apple', 2: 'ball'}\n",
    "print(my_dict)\n",
    "\n",
    "# dictionary with mixed keys\n",
    "my_dict = {'name': 'John', 1: [2, 4, 3]}\n",
    "print(my_dict)\n",
    "\n",
    "# using dict()\n",
    "my_dict = dict({1:'apple', 2:'ball'})\n",
    "print(my_dict)\n",
    "\n",
    "# from sequence having each item as a pair\n",
    "my_dict = dict([(1,'apple'), (2,'ball')])\n",
    "print(my_dict)"
   ]
  },
  {
   "cell_type": "code",
   "execution_count": null,
   "id": "d8c7cddf",
   "metadata": {},
   "outputs": [],
   "source": [
    "d = {1:'value','key':2}\n",
    "print(type(d))\n",
    "\n",
    "print(\"d[1] = \", d[1])\n",
    "\n",
    "print(\"d['key'] = \", d['key'])\n",
    "\n",
    "# Generates error\n",
    "print(\"d[2] = \", d[2])"
   ]
  },
  {
   "cell_type": "code",
   "execution_count": null,
   "id": "7c5fc0ec",
   "metadata": {},
   "outputs": [],
   "source": [
    "# get vs [] for retrieving elements\n",
    "my_dict = {'name': 'Jack', 'age': 26}\n",
    "\n",
    "# Output: Jack\n",
    "print(my_dict['name'])\n",
    "\n",
    "# Output: 26\n",
    "print(my_dict.get('age'))\n",
    "\n",
    "# Trying to access keys which doesn't exist throws error\n",
    "# Output None\n",
    "print(my_dict.get('address'))\n",
    "\n",
    "# KeyError\n",
    "print(my_dict['address'])"
   ]
  },
  {
   "cell_type": "code",
   "execution_count": null,
   "id": "702817b2",
   "metadata": {},
   "outputs": [],
   "source": [
    "# Changing and adding Dictionary Elements\n",
    "my_dict = {'name': 'Jack', 'age': 26}\n",
    "\n",
    "# update value\n",
    "my_dict['age'] = 27\n",
    "\n",
    "#Output: {'age': 27, 'name': 'Jack'}\n",
    "print(my_dict)\n",
    "\n",
    "# add item\n",
    "my_dict['address'] = 'Downtown'\n",
    "\n",
    "# Output: {'address': 'Downtown', 'age': 27, 'name': 'Jack'}\n",
    "print(my_dict)"
   ]
  },
  {
   "cell_type": "code",
   "execution_count": null,
   "id": "e13d63a0",
   "metadata": {},
   "outputs": [],
   "source": [
    "# Removing elements from a dictionary\n",
    "\n",
    "# create a dictionary\n",
    "squares = {1: 1, 2: 4, 3: 9, 4: 16, 5: 25}\n",
    "\n",
    "# remove a particular item, returns its value\n",
    "# Output: 16\n",
    "print(squares.pop(4))\n",
    "\n",
    "# Output: {1: 1, 2: 4, 3: 9, 5: 25}\n",
    "print(squares)\n",
    "\n",
    "# remove an arbitrary item, return (key,value)\n",
    "# Output: (5, 25)\n",
    "print(squares.popitem())\n",
    "\n",
    "# Output: {1: 1, 2: 4, 3: 9}\n",
    "print(squares)\n",
    "\n",
    "# remove all items\n",
    "squares.clear()\n",
    "\n",
    "# Output: {}\n",
    "print(squares)\n",
    "\n",
    "# delete the dictionary itself\n",
    "del squares\n",
    "\n",
    "# Throws Error\n",
    "print(squares)"
   ]
  },
  {
   "cell_type": "code",
   "execution_count": null,
   "id": "dadf1880",
   "metadata": {},
   "outputs": [],
   "source": []
  }
 ],
 "metadata": {
  "kernelspec": {
   "display_name": "Python 3 (ipykernel)",
   "language": "python",
   "name": "python3"
  },
  "language_info": {
   "codemirror_mode": {
    "name": "ipython",
    "version": 3
   },
   "file_extension": ".py",
   "mimetype": "text/x-python",
   "name": "python",
   "nbconvert_exporter": "python",
   "pygments_lexer": "ipython3",
   "version": "3.9.13"
  }
 },
 "nbformat": 4,
 "nbformat_minor": 5
}
