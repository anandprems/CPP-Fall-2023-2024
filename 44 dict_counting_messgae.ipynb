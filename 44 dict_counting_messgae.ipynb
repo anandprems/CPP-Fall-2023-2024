{
  "nbformat": 4,
  "nbformat_minor": 0,
  "metadata": {
    "colab": {
      "provenance": []
    },
    "kernelspec": {
      "name": "python3",
      "display_name": "Python 3"
    },
    "language_info": {
      "name": "python"
    }
  },
  "cells": [
    {
      "cell_type": "code",
      "source": [
        "# sorting\n",
        "\n",
        "c = {'a':10, 'b':1, 'c':22}\n",
        "tmp = list()\n",
        "for k, v in c.items() :\n",
        "    tmp.append( (v, k) )\n",
        "print(tmp)"
      ],
      "metadata": {
        "colab": {
          "base_uri": "https://localhost:8080/"
        },
        "id": "51E1VPWphnJq",
        "outputId": "b217a6f4-74ae-4391-8fcb-80b27a65c6f5"
      },
      "execution_count": 11,
      "outputs": [
        {
          "output_type": "stream",
          "name": "stdout",
          "text": [
            "[(10, 'a'), (1, 'b'), (22, 'c')]\n"
          ]
        }
      ]
    },
    {
      "cell_type": "code",
      "source": [
        "tmp = sorted(tmp, reverse=True)\n",
        "tmp"
      ],
      "metadata": {
        "colab": {
          "base_uri": "https://localhost:8080/"
        },
        "id": "7U4KDO43hoSt",
        "outputId": "5a2f13c7-657f-485d-ddd7-854204228c04"
      },
      "execution_count": 14,
      "outputs": [
        {
          "output_type": "execute_result",
          "data": {
            "text/plain": [
              "[(22, 'c'), (10, 'a'), (1, 'b')]"
            ]
          },
          "metadata": {},
          "execution_count": 14
        }
      ]
    },
    {
      "cell_type": "code",
      "execution_count": 4,
      "metadata": {
        "id": "35rKVJjwSuHW",
        "colab": {
          "base_uri": "https://localhost:8080/"
        },
        "outputId": "669b3d94-8cb9-4631-99fc-ca4eec906dcb"
      },
      "outputs": [
        {
          "name": "stdout",
          "output_type": "stream",
          "text": [
            "Enter file:/content/sample2.txt\n"
          ]
        }
      ],
      "source": [
        "name = input('Enter file:')\n",
        "handle = open(name)"
      ]
    },
    {
      "cell_type": "code",
      "source": [
        "counts = dict()\n",
        "for line in handle:\n",
        "  words = line.split()\n",
        "  for word in words:\n",
        "    counts[word] = counts.get(word,0) + 1\n",
        "\n",
        "bigcount = None\n",
        "bigword = None\n",
        "for word,count in counts.items():\n",
        "  if bigcount is None or count > bigcount:\n",
        "    bigword = word\n",
        "    bigcount = count\n",
        "\n",
        "print(bigword, bigcount)"
      ],
      "metadata": {
        "colab": {
          "base_uri": "https://localhost:8080/"
        },
        "id": "NM95vCCFTKOK",
        "outputId": "adb98f89-d3f8-4b00-ce57-0fcca2b0a166"
      },
      "execution_count": 5,
      "outputs": [
        {
          "output_type": "stream",
          "name": "stdout",
          "text": [
            "the 40\n"
          ]
        }
      ]
    },
    {
      "cell_type": "code",
      "source": [
        "fhand = open('sample2.txt')\n",
        "counts = {}\n",
        "for line in fhand:\n",
        "    words = line.split()\n",
        "    for word in words:\n",
        "        counts[word] = counts.get(word, 0 ) + 1\n",
        "\n",
        "lst = []\n",
        "for key, val in counts.items():\n",
        "    newtup = (val, key)\n",
        "    lst.append(newtup)\n",
        "\n",
        "lst = sorted(lst, reverse=True)\n",
        "\n",
        "for val, key in lst[:10] :\n",
        "    print(key, val)\n"
      ],
      "metadata": {
        "colab": {
          "base_uri": "https://localhost:8080/"
        },
        "id": "maFzFY_6Ts9T",
        "outputId": "7110b10a-9394-4627-938f-f0ee9cd97fc9"
      },
      "execution_count": 10,
      "outputs": [
        {
          "output_type": "stream",
          "name": "stdout",
          "text": [
            "the 40\n",
            "of 19\n",
            "to 13\n",
            "principal 12\n",
            "and 11\n",
            "in 8\n",
            "data 8\n",
            "components. 8\n",
            "It 8\n",
            "Plot: 7\n"
          ]
        }
      ]
    },
    {
      "cell_type": "code",
      "source": [],
      "metadata": {
        "id": "W9yO-5IMXPEr"
      },
      "execution_count": null,
      "outputs": []
    }
  ]
}