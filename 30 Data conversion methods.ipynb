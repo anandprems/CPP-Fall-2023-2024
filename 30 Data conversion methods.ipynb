{
 "cells": [
  {
   "cell_type": "code",
   "execution_count": null,
   "id": "67a74bc1",
   "metadata": {},
   "outputs": [],
   "source": [
    "#in general\n",
    "a = 10\n",
    "b = 65.3\n",
    "c = 'Pythonista'"
   ]
  },
  {
   "cell_type": "code",
   "execution_count": null,
   "id": "8d792215",
   "metadata": {},
   "outputs": [],
   "source": [
    "type(a)"
   ]
  },
  {
   "cell_type": "code",
   "execution_count": null,
   "id": "d1beb334",
   "metadata": {},
   "outputs": [],
   "source": [
    "type(b)"
   ]
  },
  {
   "cell_type": "code",
   "execution_count": null,
   "id": "5e61d521",
   "metadata": {},
   "outputs": [],
   "source": [
    "type(c)"
   ]
  },
  {
   "cell_type": "code",
   "execution_count": null,
   "id": "39c08466",
   "metadata": {},
   "outputs": [],
   "source": [
    "a = float(a)\n",
    "a"
   ]
  },
  {
   "cell_type": "code",
   "execution_count": null,
   "id": "953fc8b5",
   "metadata": {},
   "outputs": [],
   "source": [
    "b = int(b)\n",
    "b"
   ]
  },
  {
   "cell_type": "code",
   "execution_count": null,
   "id": "f0096991",
   "metadata": {},
   "outputs": [],
   "source": [
    "c = int(c)"
   ]
  },
  {
   "cell_type": "code",
   "execution_count": null,
   "id": "fdaca5cb",
   "metadata": {},
   "outputs": [],
   "source": [
    "c = float(c)"
   ]
  },
  {
   "cell_type": "code",
   "execution_count": null,
   "id": "1ac4c520",
   "metadata": {},
   "outputs": [],
   "source": [
    "d = 65.8\n",
    "d = int(d)\n",
    "d"
   ]
  },
  {
   "cell_type": "code",
   "execution_count": null,
   "id": "996a11b6",
   "metadata": {},
   "outputs": [],
   "source": [
    "e = '1223a'\n",
    "type(e)"
   ]
  },
  {
   "cell_type": "code",
   "execution_count": null,
   "id": "34d97d06",
   "metadata": {},
   "outputs": [],
   "source": [
    "e = int(e)\n",
    "e"
   ]
  },
  {
   "cell_type": "code",
   "execution_count": null,
   "id": "93b637b6",
   "metadata": {},
   "outputs": [],
   "source": [
    "e = float(e)\n",
    "e"
   ]
  },
  {
   "cell_type": "code",
   "execution_count": null,
   "id": "006e0384",
   "metadata": {},
   "outputs": [],
   "source": [
    "set([1,2,3])"
   ]
  },
  {
   "cell_type": "code",
   "execution_count": null,
   "id": "b2c4a099",
   "metadata": {},
   "outputs": [],
   "source": [
    "tuple({5,6,7})"
   ]
  },
  {
   "cell_type": "code",
   "execution_count": null,
   "id": "0316e9c3",
   "metadata": {},
   "outputs": [],
   "source": [
    "list('hellofjsdhfjk')#1 argument only"
   ]
  },
  {
   "cell_type": "code",
   "execution_count": null,
   "id": "cd792629",
   "metadata": {},
   "outputs": [],
   "source": [
    "dict([[1,2],[3,4]])"
   ]
  },
  {
   "cell_type": "code",
   "execution_count": null,
   "id": "e9396ee0",
   "metadata": {},
   "outputs": [],
   "source": [
    " dict([(3,26),(4,44)])"
   ]
  },
  {
   "cell_type": "code",
   "execution_count": null,
   "id": "7ecf0e20",
   "metadata": {},
   "outputs": [],
   "source": [
    "#implicit data type\n",
    "int_num = 53\n",
    "float_num = 125.68\n",
    "\n",
    "numb = int_num + float_num\n",
    "\n",
    "print(\"datatype of 1st variable:\",type(int_num))\n",
    "print(\"datatype of2nd variable:\",type(float_num))\n",
    "\n",
    "print(\"Value of third variable:\",numb)\n",
    "print(\"datatype of third variable:\",type(numb))"
   ]
  },
  {
   "cell_type": "code",
   "execution_count": null,
   "id": "7d98036e",
   "metadata": {},
   "outputs": [],
   "source": [
    "#reason for explicit data type conversion\n",
    "int_num = 53\n",
    "str_num = '125.68'\n",
    "\n",
    "numb = int_num + str_num\n",
    "\n",
    "print(\"datatype of 1st variable:\",type(int_num))\n",
    "print(\"datatype of2nd variable:\",type(str_num))\n",
    "\n",
    "print(\"Value of third variable:\",numb)\n",
    "print(\"datatype of third variable:\",type(numb))"
   ]
  },
  {
   "cell_type": "code",
   "execution_count": null,
   "id": "3254974c",
   "metadata": {},
   "outputs": [],
   "source": [
    "#explicit converstion\n",
    "#coverting str to float\n",
    "int_num = 53\n",
    "str_num = '125'\n",
    "\n",
    "str_num = int(str_num)\n",
    "\n",
    "numb = int_num + str_num\n",
    "\n",
    "print(\"datatype of 1st variable:\",type(int_num))\n",
    "print(\"datatype of2nd variable:\",type(str_num))\n",
    "\n",
    "print(\"Value of third variable:\",numb)\n",
    "print(\"datatype of third variable:\",type(numb))"
   ]
  },
  {
   "cell_type": "code",
   "execution_count": null,
   "id": "07efb0d8",
   "metadata": {},
   "outputs": [],
   "source": []
  }
 ],
 "metadata": {
  "kernelspec": {
   "display_name": "Python 3 (ipykernel)",
   "language": "python",
   "name": "python3"
  },
  "language_info": {
   "codemirror_mode": {
    "name": "ipython",
    "version": 3
   },
   "file_extension": ".py",
   "mimetype": "text/x-python",
   "name": "python",
   "nbconvert_exporter": "python",
   "pygments_lexer": "ipython3",
   "version": "3.9.13"
  }
 },
 "nbformat": 4,
 "nbformat_minor": 5
}
