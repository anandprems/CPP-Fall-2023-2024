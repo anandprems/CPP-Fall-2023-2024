{
 "cells": [
  {
   "cell_type": "code",
   "execution_count": 22,
   "id": "b3318999",
   "metadata": {},
   "outputs": [
    {
     "name": "stdout",
     "output_type": "stream",
     "text": [
      "Enter your weight in kilograms: 65\n",
      "Enter your height in meters: 1.5\n"
     ]
    }
   ],
   "source": [
    "# Get input from Ram\n",
    "weight = float(input(\"Enter your weight in kilograms: \"))\n",
    "height = float(input(\"Enter your height in meters: \"))"
   ]
  },
  {
   "cell_type": "code",
   "execution_count": 23,
   "id": "8fb8d47d",
   "metadata": {},
   "outputs": [],
   "source": [
    "# Calculate BMI\n",
    "bmi = weight / (height ** 2)"
   ]
  },
  {
   "cell_type": "code",
   "execution_count": 24,
   "id": "b27da286",
   "metadata": {},
   "outputs": [],
   "source": [
    "# Interpret BMI based on the calculated value\n",
    "if bmi < 18.5:\n",
    "    interpretation = \"underweight\"\n",
    "elif bmi < 25:\n",
    "    interpretation = \"normal weight\"\n",
    "elif bmi < 30:\n",
    "    interpretation = \"overweight\"\n",
    "elif bmi < 35:\n",
    "    interpretation = \"obesity\"\n",
    "else:\n",
    "    interpretation = \"clinically obese, need to consult doctor without any delay\""
   ]
  },
  {
   "cell_type": "code",
   "execution_count": 25,
   "id": "82873761",
   "metadata": {},
   "outputs": [
    {
     "name": "stdout",
     "output_type": "stream",
     "text": [
      "Based on your BMI of 28.89, you are categorized as overweight.\n"
     ]
    }
   ],
   "source": [
    "# Display the interpretation to Ram\n",
    "print(f\"Based on your BMI of {bmi:.2f}, you are categorized as {interpretation}.\")"
   ]
  },
  {
   "cell_type": "code",
   "execution_count": null,
   "id": "a6451a28",
   "metadata": {},
   "outputs": [],
   "source": []
  }
 ],
 "metadata": {
  "kernelspec": {
   "display_name": "Python 3 (ipykernel)",
   "language": "python",
   "name": "python3"
  },
  "language_info": {
   "codemirror_mode": {
    "name": "ipython",
    "version": 3
   },
   "file_extension": ".py",
   "mimetype": "text/x-python",
   "name": "python",
   "nbconvert_exporter": "python",
   "pygments_lexer": "ipython3",
   "version": "3.11.4"
  }
 },
 "nbformat": 4,
 "nbformat_minor": 5
}
