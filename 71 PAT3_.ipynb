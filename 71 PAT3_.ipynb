{
 "cells": [
  {
   "cell_type": "markdown",
   "id": "02a59d81",
   "metadata": {},
   "source": [
    "Request the user to input two strings: string1 and string2. Check if string1 is both symmetrical and a palindrome. Then, obtain two more strings, string2 and string3, from the user and determine whether these two strings are in a rotational condition. Finally, display the output for all the specified conditions.\n",
    "\n",
    "Note:\n",
    "\n",
    "A string is symmetrical if both of its halves are the same (e.g., \"amaama\").\n",
    "A string is a palindrome if one half of the string is the reverse of the other half or if it reads the same forwards and backward (e.g., \"amaama\").\n",
    "A string is rotational if one string can be derived from the other by left or right rotation (e.g., \"python\" can be rotated to \"thonpy\").\n",
    " \n",
    "\n",
    "Result will be like, \n",
    "\n",
    "abcd is not symmetrical or a palindrome.\n",
    "python and java are not in a rotational condition."
   ]
  },
  {
   "cell_type": "code",
   "execution_count": 4,
   "id": "3730ea39",
   "metadata": {},
   "outputs": [
    {
     "name": "stdout",
     "output_type": "stream",
     "text": [
      "Enter the first string: radar\n",
      "Enter the second string for rotational check: evil\n",
      "Enter the third string for rotational check: vile\n",
      "radar is symmetrical and a palindrome.\n",
      "evil and vile are in a rotational condition.\n"
     ]
    }
   ],
   "source": [
    "def is_symmetrical(string):\n",
    "    # Check if the string is symmetrical\n",
    "    return string == string[::-1]\n",
    "\n",
    "def is_palindrome(string):\n",
    "    # Check if the string is a palindrome\n",
    "    half_length = len(string) // 2\n",
    "    return string[:half_length] == string[:-half_length - 1:-1]\n",
    "\n",
    "def is_rotational(string1, string2):\n",
    "    # Check if two strings are in a rotational condition\n",
    "    if len(string1) != len(string2):\n",
    "        return False\n",
    "    double_string1 = string1 + string1\n",
    "    return string2 in double_string1\n",
    "\n",
    "# Get input from the user\n",
    "string1 = input(\"Enter the first string: \")\n",
    "string2 = input(\"Enter the second string for rotational check: \")\n",
    "string3 = input(\"Enter the third string for rotational check: \")\n",
    "\n",
    "# Check the conditions and display the output\n",
    "if is_symmetrical(string1) and is_palindrome(string1):\n",
    "    print(f\"{string1} is symmetrical and a palindrome.\")\n",
    "else:\n",
    "    print(f\"{string1} is not symmetrical or a palindrome.\")\n",
    "\n",
    "if is_rotational(string2, string3):\n",
    "    print(f\"{string2} and {string3} are in a rotational condition.\")\n",
    "else:\n",
    "    print(f\"{string2} and {string3} are not in a rotational condition.\")"
   ]
  },
  {
   "cell_type": "code",
   "execution_count": null,
   "id": "76ffed62",
   "metadata": {},
   "outputs": [],
   "source": []
  }
 ],
 "metadata": {
  "kernelspec": {
   "display_name": "Python 3 (ipykernel)",
   "language": "python",
   "name": "python3"
  },
  "language_info": {
   "codemirror_mode": {
    "name": "ipython",
    "version": 3
   },
   "file_extension": ".py",
   "mimetype": "text/x-python",
   "name": "python",
   "nbconvert_exporter": "python",
   "pygments_lexer": "ipython3",
   "version": "3.11.4"
  }
 },
 "nbformat": 4,
 "nbformat_minor": 5
}
