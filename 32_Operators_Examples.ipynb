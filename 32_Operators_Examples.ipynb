{
  "cells": [
    {
      "cell_type": "code",
      "execution_count": null,
      "id": "80bae92b",
      "metadata": {
        "id": "80bae92b"
      },
      "outputs": [],
      "source": [
        "a = 10\n",
        "b = 3\n",
        "c = a+b"
      ]
    },
    {
      "cell_type": "code",
      "execution_count": null,
      "id": "d596707d",
      "metadata": {
        "id": "d596707d"
      },
      "outputs": [],
      "source": [
        "x = 15\n",
        "y = 4\n",
        "\n",
        "# Output: x + y = 19\n",
        "print('x + y =',x+y)\n",
        "\n",
        "# Output: x - y = 11\n",
        "print('x - y =',x-y)\n",
        "\n",
        "# Output: x * y = 60\n",
        "print('x * y =',x*y)\n",
        "\n",
        "# Output: x / y = 3.75\n",
        "print('x / y =',x/y)\n",
        "\n",
        "# Output: x // y = 3\n",
        "print('x // y =',x//y)\n",
        "\n",
        "# Output: x ** y = 50625\n",
        "print('x ** y =',x**y)"
      ]
    },
    {
      "cell_type": "code",
      "execution_count": null,
      "id": "bf649031",
      "metadata": {
        "id": "bf649031"
      },
      "outputs": [],
      "source": [
        "x = 10\n",
        "y = 12\n",
        "\n",
        "# Output: x > y is False\n",
        "print('x > y is',x>y)\n",
        "\n",
        "# Output: x < y is True\n",
        "print('x < y is',x<y)\n",
        "\n",
        "# Output: x == y is False\n",
        "print('x == y is',x==y)\n",
        "\n",
        "# Output: x != y is True\n",
        "print('x != y is',x!=y)\n",
        "\n",
        "# Output: x >= y is False\n",
        "print('x >= y is',x>=y)\n",
        "\n",
        "# Output: x <= y is True\n",
        "print('x <= y is',x<=y)"
      ]
    },
    {
      "cell_type": "code",
      "execution_count": null,
      "id": "815a70c4",
      "metadata": {
        "id": "815a70c4"
      },
      "outputs": [],
      "source": [
        "x = True\n",
        "y = False\n",
        "\n",
        "print('x and y is',x and y)\n",
        "\n",
        "print('x or y is',x or y)\n",
        "\n",
        "print('not x is',not x)"
      ]
    },
    {
      "cell_type": "code",
      "execution_count": null,
      "id": "03070ed0",
      "metadata": {
        "id": "03070ed0"
      },
      "outputs": [],
      "source": [
        "x1 = 5\n",
        "y1 = 5\n",
        "x2 = 'Hello'\n",
        "y2 = 'Hello'\n",
        "x3 = [1,2,3]\n",
        "y3 = [1,2,3]\n",
        "\n",
        "# Output: False\n",
        "print(x1 is not y1)\n",
        "\n",
        "# Output: True\n",
        "print(x2 is y2)\n",
        "\n",
        "# Output: False\n",
        "print(x3 is y3)"
      ]
    },
    {
      "cell_type": "code",
      "execution_count": null,
      "id": "eb068454",
      "metadata": {
        "id": "eb068454"
      },
      "outputs": [],
      "source": [
        "x = 'Hello world'\n",
        "y = {1:'a',2:'b'}\n",
        "\n",
        "# Output: True\n",
        "print('H' in x)\n",
        "\n",
        "# Output: True\n",
        "print('hello' not in x)\n",
        "\n",
        "# Output: True\n",
        "print(1 in y)\n",
        "\n",
        "# Output: False\n",
        "print('a' in y)"
      ]
    },
    {
      "cell_type": "code",
      "execution_count": null,
      "id": "012d5cca",
      "metadata": {
        "id": "012d5cca"
      },
      "outputs": [],
      "source": [
        "x = 10\n",
        "y = 20\n",
        "\n",
        "result = x if x > y else y\n",
        "result"
      ]
    },
    {
      "cell_type": "code",
      "source": [],
      "metadata": {
        "id": "Tk7Fzx_4kiXF"
      },
      "id": "Tk7Fzx_4kiXF",
      "execution_count": null,
      "outputs": []
    }
  ],
  "metadata": {
    "kernelspec": {
      "display_name": "Python 3 (ipykernel)",
      "language": "python",
      "name": "python3"
    },
    "language_info": {
      "codemirror_mode": {
        "name": "ipython",
        "version": 3
      },
      "file_extension": ".py",
      "mimetype": "text/x-python",
      "name": "python",
      "nbconvert_exporter": "python",
      "pygments_lexer": "ipython3",
      "version": "3.9.13"
    },
    "colab": {
      "provenance": []
    }
  },
  "nbformat": 4,
  "nbformat_minor": 5
}