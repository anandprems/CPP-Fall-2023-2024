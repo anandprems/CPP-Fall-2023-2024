{
  "nbformat": 4,
  "nbformat_minor": 0,
  "metadata": {
    "colab": {
      "provenance": []
    },
    "kernelspec": {
      "name": "python3",
      "display_name": "Python 3"
    },
    "language_info": {
      "name": "python"
    }
  },
  "cells": [
    {
      "cell_type": "markdown",
      "source": [
        "### Write a Python program that takes a number as input and determines if it's even or odd using conditional statements."
      ],
      "metadata": {
        "id": "E85b11NH75cU"
      }
    },
    {
      "cell_type": "code",
      "execution_count": 3,
      "metadata": {
        "colab": {
          "base_uri": "https://localhost:8080/"
        },
        "id": "PRRSbuDJ73wX",
        "outputId": "a7635b74-6474-4faf-fe07-102652851306"
      },
      "outputs": [
        {
          "output_type": "stream",
          "name": "stdout",
          "text": [
            "Enter a number: -4\n",
            "-4 is an even number.\n"
          ]
        }
      ],
      "source": [
        "# Input a number from the user\n",
        "num = int(input(\"Enter a number: \"))\n",
        "\n",
        "# Check if the number is even or odd\n",
        "if num % 2 == 0:\n",
        "    print(f\"{num} is an even number.\")\n",
        "else:\n",
        "    print(f\"{num} is an odd number.\")"
      ]
    },
    {
      "cell_type": "markdown",
      "source": [
        "### Create a program that checks if a given year is a leap year or not using if-else statements."
      ],
      "metadata": {
        "id": "V5RVRBoK8Gx4"
      }
    },
    {
      "cell_type": "code",
      "source": [
        "# Input a year from the user\n",
        "year = int(input(\"Enter a year: \"))\n",
        "\n",
        "# Check if the year is a leap year\n",
        "if (year % 4 == 0 and year % 100 != 0) or (year % 400 == 0):\n",
        "    print(f\"{year} is a leap year.\")\n",
        "else:\n",
        "    print(f\"{year} is not a leap year.\")"
      ],
      "metadata": {
        "colab": {
          "base_uri": "https://localhost:8080/"
        },
        "id": "dP3eX_jH7_Rm",
        "outputId": "256cca78-3dc0-4a20-a7d3-416f2e4fcf61"
      },
      "execution_count": 6,
      "outputs": [
        {
          "output_type": "stream",
          "name": "stdout",
          "text": [
            "Enter a year: 1996\n",
            "1996 is a leap year.\n"
          ]
        }
      ]
    },
    {
      "cell_type": "markdown",
      "source": [
        "### Write a Python program that takes a student's score as input and assigns a letter grade (A, B, C, D, or F) based on the score using if-elif-else statements."
      ],
      "metadata": {
        "id": "8ZXJYZlm8bRP"
      }
    },
    {
      "cell_type": "code",
      "source": [
        "# Input the student's score\n",
        "score = int(input(\"Enter the student's score: \"))\n",
        "\n",
        "# Determine the letter grade based on the score\n",
        "if score >= 90:\n",
        "    grade = 'A'\n",
        "elif score >= 80:\n",
        "    grade = 'B'\n",
        "elif score >= 70:\n",
        "    grade = 'C'\n",
        "elif score >= 60:\n",
        "    grade = 'D'\n",
        "else:\n",
        "    grade = 'F'\n",
        "\n",
        "# Display the letter grade\n",
        "print(f\"The student's grade is: {grade}\")"
      ],
      "metadata": {
        "colab": {
          "base_uri": "https://localhost:8080/"
        },
        "id": "z8smXqWY8PzF",
        "outputId": "94008fa1-d0a0-43f0-f67c-6c03141228b5"
      },
      "execution_count": 8,
      "outputs": [
        {
          "output_type": "stream",
          "name": "stdout",
          "text": [
            "Enter the student's score: 90\n",
            "The student's grade is: A\n"
          ]
        }
      ]
    },
    {
      "cell_type": "markdown",
      "source": [
        "### Use a while loop to print the first 10 natural numbers"
      ],
      "metadata": {
        "id": "zSlztTvI8yA9"
      }
    },
    {
      "cell_type": "code",
      "source": [
        "# Initialize a counter\n",
        "n = 1\n",
        "\n",
        "# Use a while loop to print the first 10 natural numbers\n",
        "while n <= 10:\n",
        "    print(n)\n",
        "    n += 1"
      ],
      "metadata": {
        "colab": {
          "base_uri": "https://localhost:8080/"
        },
        "id": "EHqmQE4t8r0m",
        "outputId": "a385d77c-629b-42eb-9b6c-dd086cd4ab7f"
      },
      "execution_count": 9,
      "outputs": [
        {
          "output_type": "stream",
          "name": "stdout",
          "text": [
            "1\n",
            "2\n",
            "3\n",
            "4\n",
            "5\n",
            "6\n",
            "7\n",
            "8\n",
            "9\n",
            "10\n"
          ]
        }
      ]
    },
    {
      "cell_type": "markdown",
      "source": [
        "### Write a Python program that calculates the factorial of a given number using a for loop.\n",
        "\n",
        "---\n",
        "\n"
      ],
      "metadata": {
        "id": "hvvu_CtB8_Fe"
      }
    },
    {
      "cell_type": "code",
      "source": [
        "# Input a number from the user\n",
        "n = int(input(\"Enter a number: \"))\n",
        "\n",
        "# Initialize the result variable to 1\n",
        "factorial = 1\n",
        "\n",
        "# Calculate the factorial using a for loop\n",
        "for i in range(1, n + 1):\n",
        "    factorial *= i\n",
        "\n",
        "# Display the factorial\n",
        "print(f\"The factorial of {n} is {factorial}\")"
      ],
      "metadata": {
        "colab": {
          "base_uri": "https://localhost:8080/"
        },
        "id": "JbgWQoS088K6",
        "outputId": "466f6bc2-6beb-47a2-db35-ba90b0a96695"
      },
      "execution_count": 11,
      "outputs": [
        {
          "output_type": "stream",
          "name": "stdout",
          "text": [
            "Enter a number: 2\n",
            "The factorial of 2 is 2\n"
          ]
        }
      ]
    },
    {
      "cell_type": "markdown",
      "source": [
        "### Implement a program that prints all the prime numbers between 1 and 100 using nested loops and the break statement."
      ],
      "metadata": {
        "id": "CsHIASNP9e6w"
      }
    },
    {
      "cell_type": "code",
      "source": [
        "# Iterate through numbers from 2 to 100\n",
        "# Prime numbers are defined as positive integers greater than 1 that have no divisors other than 1 and themselves.\n",
        "#Therefore, by definition, prime numbers start from 2 because 1 is not considered a prime number.\n",
        "#If we included 1 in the list of prime numbers, it would not meet the criteria of having exactly two distinct divisors (1 and itself).\n",
        "for num in range(2, 101):\n",
        "    is_prime = True  # Assume the number is prime initially\n",
        "\n",
        "    # Check if num is divisible by any number from 2 to the square root of num\n",
        "    for divisor in range(2, int(num ** 0.5) + 1):\n",
        "        if num % divisor == 0:\n",
        "            is_prime = False  # If it's divisible, it's not prime\n",
        "            break  # Exit the loop early\n",
        "\n",
        "    # If is_prime is still True, the number is prime\n",
        "    if is_prime:\n",
        "        print(num)"
      ],
      "metadata": {
        "colab": {
          "base_uri": "https://localhost:8080/"
        },
        "id": "EF9Nmmi39TIh",
        "outputId": "9b497c68-7709-4159-feed-2f2efd0adff9"
      },
      "execution_count": 14,
      "outputs": [
        {
          "output_type": "stream",
          "name": "stdout",
          "text": [
            "2\n",
            "3\n",
            "5\n",
            "7\n",
            "11\n",
            "13\n",
            "17\n",
            "19\n",
            "23\n",
            "29\n",
            "31\n",
            "37\n",
            "41\n",
            "43\n",
            "47\n",
            "53\n",
            "59\n",
            "61\n",
            "67\n",
            "71\n",
            "73\n",
            "79\n",
            "83\n",
            "89\n",
            "97\n"
          ]
        }
      ]
    },
    {
      "cell_type": "markdown",
      "source": [
        "### Create a list of numbers and write a program to find the sum and average of the elements in the list.\n"
      ],
      "metadata": {
        "id": "2kvez0pu-Kr8"
      }
    },
    {
      "cell_type": "code",
      "source": [
        "# Create a list of numbers\n",
        "numbers = [10, 20, 30, 40, 50]\n",
        "\n",
        "# Calculate the sum of the elements\n",
        "total = sum(numbers)\n",
        "\n",
        "# Calculate the average\n",
        "average = total / len(numbers)\n",
        "\n",
        "# Display the sum and average\n",
        "print(f\"Sum of the numbers: {total}\")\n",
        "print(f\"Average of the numbers: {average}\")"
      ],
      "metadata": {
        "colab": {
          "base_uri": "https://localhost:8080/"
        },
        "id": "mf_1ZAo29nBY",
        "outputId": "ca399525-de49-4683-d763-0191ffba4dd9"
      },
      "execution_count": 15,
      "outputs": [
        {
          "output_type": "stream",
          "name": "stdout",
          "text": [
            "Sum of the numbers: 150\n",
            "Average of the numbers: 30.0\n"
          ]
        }
      ]
    },
    {
      "cell_type": "markdown",
      "source": [
        "### Given a tuple of names, write a program that finds and prints the longest name in the tuple."
      ],
      "metadata": {
        "id": "tOhP-tGB_f_k"
      }
    },
    {
      "cell_type": "code",
      "source": [
        "# Define a tuple of names\n",
        "names_tuple = (\"Chirag Jamariya\", \"Shreya Ranjitha\", \"Abipray Khare\", \"Christina Grace\", \"Kodali Rohith Manikanta Naga Sri Sai\", \"Prajan\")\n",
        "\n",
        "# Initialize a variable to store the longest name\n",
        "longest_name = \"\"\n",
        "\n",
        "# Iterate through the names in the tuple\n",
        "for name in names_tuple:\n",
        "    if len(name) > len(longest_name):\n",
        "        longest_name = name\n",
        "\n",
        "# Print the longest name\n",
        "print(f\"The longest name in the tuple is: {longest_name}\")"
      ],
      "metadata": {
        "colab": {
          "base_uri": "https://localhost:8080/"
        },
        "id": "-cZ7nc9G-YHi",
        "outputId": "916b3239-d24b-47a7-d614-e13ecc786590"
      },
      "execution_count": 17,
      "outputs": [
        {
          "output_type": "stream",
          "name": "stdout",
          "text": [
            "The longest name in the tuple is: Kodali Rohith Manikanta Naga Sri Sai\n"
          ]
        }
      ]
    },
    {
      "cell_type": "markdown",
      "source": [
        "### Create a list of words, and write a Python program to reverse the order of the words in the list."
      ],
      "metadata": {
        "id": "LCRqI5dmAvLF"
      }
    },
    {
      "cell_type": "code",
      "source": [
        "# Create a list of words\n",
        "word_list = [\"Hello\", \"world\", \"Python\", \"is\", \"fun\"]\n",
        "\n",
        "# Reverse the order of the words in the list\n",
        "reversed_list = word_list[::-1]\n",
        "\n",
        "# Display the reversed list\n",
        "print(\"Original list of words:\", word_list)\n",
        "print(\"Reversed list of words:\", reversed_list)"
      ],
      "metadata": {
        "colab": {
          "base_uri": "https://localhost:8080/"
        },
        "id": "Boxy1wbtAG9d",
        "outputId": "a08f36bc-3166-40d9-c200-2073a718a66b"
      },
      "execution_count": 18,
      "outputs": [
        {
          "output_type": "stream",
          "name": "stdout",
          "text": [
            "Original list of words: ['Hello', 'world', 'Python', 'is', 'fun']\n",
            "Reversed list of words: ['fun', 'is', 'Python', 'world', 'Hello']\n"
          ]
        }
      ]
    },
    {
      "cell_type": "markdown",
      "source": [
        "### Create a dictionary with student names and their corresponding scores. Write a program to find the student with the highest score."
      ],
      "metadata": {
        "id": "vU61jxX3A_uA"
      }
    },
    {
      "cell_type": "code",
      "source": [
        "# Create a dictionary with student names and scores\n",
        "student_scores = {\n",
        "    \"Ram\": 95,\n",
        "    \"Sita\": 87,\n",
        "    \"Hanuman\": 92,\n",
        "    \"Krishnar\": 78,\n",
        "    \"God\": 99\n",
        "}\n",
        "\n",
        "# Find the student with the highest score\n",
        "highest_score_student = max(student_scores, key=student_scores.get)\n",
        "highest_score = student_scores[highest_score_student]\n",
        "\n",
        "# Display the student with the highest score and their score\n",
        "print(f\"The student with the highest score is {highest_score_student} with a score of {highest_score}.\")"
      ],
      "metadata": {
        "colab": {
          "base_uri": "https://localhost:8080/"
        },
        "id": "C0RiPyb5A3y7",
        "outputId": "33173d82-2119-4d0f-efce-81516d19ccb9"
      },
      "execution_count": 20,
      "outputs": [
        {
          "output_type": "stream",
          "name": "stdout",
          "text": [
            "The student with the highest score is God with a score of 99.\n"
          ]
        }
      ]
    },
    {
      "cell_type": "markdown",
      "source": [
        "### Implement a program that takes a sentence as input and counts the frequency of each word using a dictionary."
      ],
      "metadata": {
        "id": "iXaWFOQLCF5Q"
      }
    },
    {
      "cell_type": "code",
      "source": [
        "# Input a sentence from the user\n",
        "# Education is not merely the acquisition of facts and figures, but a lifelong journey of self-discovery, personal growth, and empowerment.\n",
        "# It empowers us to become critical thinkers, compassionate individuals, and responsible citizens.\n",
        "# Knowledge is the bridge that connects the past, the present, and the future, allowing us to stand on the shoulders of giants while reaching for the stars\n",
        "\n",
        "sentence = input(\"Enter a sentence: \")\n",
        "\n",
        "# Convert the sentence to lowercase and split it into words\n",
        "words = sentence.lower().split()\n",
        "\n",
        "# Initialize a dictionary to store word frequencies\n",
        "word_frequencies = {}\n",
        "\n",
        "# Count the frequency of each word\n",
        "for word in words:\n",
        "    if word in word_frequencies:\n",
        "        word_frequencies[word] += 1\n",
        "    else:\n",
        "        word_frequencies[word] = 1\n",
        "\n",
        "# Display the word frequencies\n",
        "print(\"Word frequencies in the sentence:\")\n",
        "for word, frequency in word_frequencies.items():\n",
        "    print(f\"{word}: {frequency}\")"
      ],
      "metadata": {
        "colab": {
          "base_uri": "https://localhost:8080/"
        },
        "id": "jqAE11uhB3Gx",
        "outputId": "2dea1147-1878-40e0-d188-396bd46221ce"
      },
      "execution_count": 21,
      "outputs": [
        {
          "output_type": "stream",
          "name": "stdout",
          "text": [
            "Enter a sentence: Education is not merely the acquisition of facts and figures, but a lifelong journey of self-discovery, personal growth, and empowerment. It empowers us to become critical thinkers, compassionate individuals, and responsible citizens. Knowledge is the bridge that connects the past, the present, and the future, allowing us to stand on the shoulders of giants while reaching for the stars\n",
            "Word frequencies in the sentence:\n",
            "education: 1\n",
            "is: 2\n",
            "not: 1\n",
            "merely: 1\n",
            "the: 7\n",
            "acquisition: 1\n",
            "of: 3\n",
            "facts: 1\n",
            "and: 4\n",
            "figures,: 1\n",
            "but: 1\n",
            "a: 1\n",
            "lifelong: 1\n",
            "journey: 1\n",
            "self-discovery,: 1\n",
            "personal: 1\n",
            "growth,: 1\n",
            "empowerment.: 1\n",
            "it: 1\n",
            "empowers: 1\n",
            "us: 2\n",
            "to: 2\n",
            "become: 1\n",
            "critical: 1\n",
            "thinkers,: 1\n",
            "compassionate: 1\n",
            "individuals,: 1\n",
            "responsible: 1\n",
            "citizens.: 1\n",
            "knowledge: 1\n",
            "bridge: 1\n",
            "that: 1\n",
            "connects: 1\n",
            "past,: 1\n",
            "present,: 1\n",
            "future,: 1\n",
            "allowing: 1\n",
            "stand: 1\n",
            "on: 1\n",
            "shoulders: 1\n",
            "giants: 1\n",
            "while: 1\n",
            "reaching: 1\n",
            "for: 1\n",
            "stars: 1\n"
          ]
        }
      ]
    },
    {
      "cell_type": "markdown",
      "source": [
        "### Write a program to merge two dictionaries into one"
      ],
      "metadata": {
        "id": "OJz0VU2oC1xK"
      }
    },
    {
      "cell_type": "code",
      "source": [
        "# Define two dictionaries\n",
        "dict1 = {'a': 1, 'b': 2}\n",
        "dict2 = {'b': 3, 'c': 4}\n",
        "\n",
        "# Create a copy of the first dictionary\n",
        "merged_dict = dict1.copy()\n",
        "\n",
        "# Update the copy with the second dictionary\n",
        "merged_dict.update(dict2)\n",
        "\n",
        "# Display the merged dictionary\n",
        "print(\"Merged Dictionary (using the update() method):\", merged_dict)"
      ],
      "metadata": {
        "colab": {
          "base_uri": "https://localhost:8080/"
        },
        "id": "0oA5q9Z7CQkj",
        "outputId": "f75d20b3-a7bb-4acb-afe2-f405329d5316"
      },
      "execution_count": 22,
      "outputs": [
        {
          "output_type": "stream",
          "name": "stdout",
          "text": [
            "Merged Dictionary (using the update() method): {'a': 1, 'b': 3, 'c': 4}\n"
          ]
        }
      ]
    },
    {
      "cell_type": "markdown",
      "source": [
        "### Create two sets of integers and write a program to find their intersection and union."
      ],
      "metadata": {
        "id": "DA5i4ph7Kk8H"
      }
    },
    {
      "cell_type": "code",
      "source": [
        "# Create two sets of integers\n",
        "set1 = {1, 2, 3, 4, 5}\n",
        "set2 = {3, 4, 5, 6, 7}\n",
        "\n",
        "# Find and display the intersection of the sets\n",
        "intersection = set1.intersection(set2)\n",
        "print(\"Intersection of set1 and set2:\", intersection)\n",
        "\n",
        "# Find and display the union of the sets\n",
        "union = set1.union(set2)\n",
        "print(\"Union of set1 and set2:\", union)"
      ],
      "metadata": {
        "colab": {
          "base_uri": "https://localhost:8080/"
        },
        "id": "SHKMA1MfDFZT",
        "outputId": "c46526c3-7efe-4fa2-ecd9-419f96429412"
      },
      "execution_count": 23,
      "outputs": [
        {
          "output_type": "stream",
          "name": "stdout",
          "text": [
            "Intersection of set1 and set2: {3, 4, 5}\n",
            "Union of set1 and set2: {1, 2, 3, 4, 5, 6, 7}\n"
          ]
        }
      ]
    },
    {
      "cell_type": "markdown",
      "source": [
        "### Given a list of numbers, create a set of unique numbers from the list."
      ],
      "metadata": {
        "id": "9WwrIluhKyKR"
      }
    },
    {
      "cell_type": "code",
      "source": [
        "# Create a list of numbers (some of which are not unique)\n",
        "numbers = [1, 2, 2, 3, 4, 4, 5, 6, 6]\n",
        "\n",
        "# Use the set constructor to create a set of unique numbers\n",
        "unique_numbers = set(numbers)\n",
        "\n",
        "# Convert the set back to a list (if needed)\n",
        "unique_numbers_list = list(unique_numbers)\n",
        "\n",
        "# Display the set of unique numbers and the list of unique numbers\n",
        "print(\"Set of unique numbers:\", unique_numbers)\n",
        "print(\"List of unique numbers:\", unique_numbers_list)"
      ],
      "metadata": {
        "colab": {
          "base_uri": "https://localhost:8080/"
        },
        "id": "MoKK6vXMKqjZ",
        "outputId": "732f57f7-d3bc-4bf5-cf37-334d05238afe"
      },
      "execution_count": 24,
      "outputs": [
        {
          "output_type": "stream",
          "name": "stdout",
          "text": [
            "Set of unique numbers: {1, 2, 3, 4, 5, 6}\n",
            "List of unique numbers: [1, 2, 3, 4, 5, 6]\n"
          ]
        }
      ]
    },
    {
      "cell_type": "markdown",
      "source": [
        "### Write a program to check if one set is a subset of another set."
      ],
      "metadata": {
        "id": "E_bzWgo_LuIl"
      }
    },
    {
      "cell_type": "code",
      "source": [
        "# Create two sets\n",
        "set1 = {1, 2, 3, 4, 5}\n",
        "set2 = {2, 4, 5}\n",
        "\n",
        "# Check if set2 is a subset of set1 using issubset() method\n",
        "is_subset_method = set2.issubset(set1)\n",
        "\n",
        "# Check if set2 is a subset of set1 using <= operator\n",
        "is_subset_operator = set2 <= set1\n",
        "\n",
        "# Display the results\n",
        "print(\"Set2 is a subset of set1 using issubset():\", is_subset_method)\n",
        "print(\"Set2 is a subset of set1 using <= operator:\", is_subset_operator)"
      ],
      "metadata": {
        "colab": {
          "base_uri": "https://localhost:8080/"
        },
        "id": "a0VUw44AK2De",
        "outputId": "e9dcbc21-ad0f-4e2c-f310-46a1ffd7e6b5"
      },
      "execution_count": 25,
      "outputs": [
        {
          "output_type": "stream",
          "name": "stdout",
          "text": [
            "Set2 is a subset of set1 using issubset(): True\n",
            "Set2 is a subset of set1 using <= operator: True\n"
          ]
        }
      ]
    },
    {
      "cell_type": "markdown",
      "source": [
        "### Implement a program that checks if a given string is a palindrome (reads the same forwards and backwards)."
      ],
      "metadata": {
        "id": "Ex18FGPXMCxa"
      }
    },
    {
      "cell_type": "code",
      "source": [
        "# Input a string from the user\n",
        "string = input(\"Enter a string: \")\n",
        "\n",
        "# Remove spaces and convert the string to lowercase for case-insensitive comparison\n",
        "string = string.replace(\" \", \"\").lower()\n",
        "\n",
        "# Reverse the string\n",
        "reverse_string = string[::-1]\n",
        "\n",
        "# Check if the string is a palindrome\n",
        "if string == reverse_string:\n",
        "    print(\"The string is a palindrome.\")\n",
        "else:\n",
        "    print(\"The string is not a palindrome.\")"
      ],
      "metadata": {
        "colab": {
          "base_uri": "https://localhost:8080/"
        },
        "id": "j13PsUYULvki",
        "outputId": "b7f1292d-c55f-49f8-eded-3e95b22e70c8"
      },
      "execution_count": 27,
      "outputs": [
        {
          "output_type": "stream",
          "name": "stdout",
          "text": [
            "Enter a string: Madam\n",
            "The string is a palindrome.\n"
          ]
        }
      ]
    },
    {
      "cell_type": "markdown",
      "source": [
        "### Write a program that takes a list of email addresses and uses regular expressions to validate them."
      ],
      "metadata": {
        "id": "KqhOXfgUMU3R"
      }
    },
    {
      "cell_type": "code",
      "source": [
        "import re\n",
        "\n",
        "# Define the regular expression pattern for a simple email validation\n",
        "pattern = r'^[a-zA-Z0-9._%+-]+@[a-zA-Z0-9.-]+\\.[a-zA-Z]{2,}$'\n",
        "\n",
        "# List of email addresses to validate\n",
        "email_list = [\n",
        "    \"premanand.s@vit.ac.in\",\n",
        "    \"premanand.s@aaaa\",\n",
        "    \"another.user@subdomain.example.co.uk\",\n",
        "    \"er.anandprem@gmail.com\",\n",
        "    \"premanand.s@1234.com\"\n",
        "]\n",
        "\n",
        "# Iterate through each email address in the list\n",
        "for email in email_list:\n",
        "    if re.match(pattern, email):\n",
        "        print(f\"{email} is a valid email address.\")\n",
        "    else:\n",
        "        print(f\"{email} is not a valid email address.\")"
      ],
      "metadata": {
        "colab": {
          "base_uri": "https://localhost:8080/"
        },
        "id": "DwZEq9bSMKdB",
        "outputId": "37d25b82-f7b4-4b36-b9ed-dae076935998"
      },
      "execution_count": 33,
      "outputs": [
        {
          "output_type": "stream",
          "name": "stdout",
          "text": [
            "premanand.s@vit.ac.in is a valid email address.\n",
            "premanand.s@aaaa is not a valid email address.\n",
            "another.user@subdomain.example.co.uk is a valid email address.\n",
            "er.anandprem@gmail.com is a valid email address.\n",
            "premanand.s@1234.com is a valid email address.\n"
          ]
        }
      ]
    },
    {
      "cell_type": "markdown",
      "source": [
        "### Create a program that extracts all Indian phone numbers from a given text using regular expressions.\n"
      ],
      "metadata": {
        "id": "wTNKOXsiNwMb"
      }
    },
    {
      "cell_type": "code",
      "source": [
        "import re\n",
        "\n",
        "# Sample text containing phone numbers\n",
        "text = \"\"\"\n",
        "Here are some Indian mobile numbers:\n",
        "+91 9876543210\n",
        "+91 9988776655\n",
        "9876543210123456\n",
        "123 4567890\n",
        "+91 6358679961\n",
        "+91 5358679961\n",
        "\"\"\"\n",
        "\n",
        "# Define a regular expression pattern to match Indian mobile numbers\n",
        "pattern = r'\\+91[ -]?[6789]\\d{9}\\b|\\b[789]\\d{9}\\b'\n",
        "\n",
        "# Find and extract Indian mobile numbers from the text\n",
        "mobile_numbers = re.findall(pattern, text)\n",
        "\n",
        "# Display the extracted mobile numbers\n",
        "print(\"Indian mobile numbers found in the text:\")\n",
        "for number in mobile_numbers:\n",
        "    print(number)"
      ],
      "metadata": {
        "colab": {
          "base_uri": "https://localhost:8080/"
        },
        "id": "OqyH_JXUMhjM",
        "outputId": "bd3085d2-2db7-4ccd-eb2a-5601909f6309"
      },
      "execution_count": 43,
      "outputs": [
        {
          "output_type": "stream",
          "name": "stdout",
          "text": [
            "Indian mobile numbers found in the text:\n",
            "+91 9876543210\n",
            "+91 9988776655\n",
            "+91 6358679961\n"
          ]
        }
      ]
    },
    {
      "cell_type": "code",
      "source": [],
      "metadata": {
        "id": "tMWJQ8Q_OG4T"
      },
      "execution_count": null,
      "outputs": []
    },
    {
      "cell_type": "code",
      "source": [],
      "metadata": {
        "id": "ldNTGC4YnHX3"
      },
      "execution_count": null,
      "outputs": []
    }
  ]
}