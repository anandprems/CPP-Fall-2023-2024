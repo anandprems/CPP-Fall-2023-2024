{
  "nbformat": 4,
  "nbformat_minor": 0,
  "metadata": {
    "colab": {
      "provenance": []
    },
    "kernelspec": {
      "name": "python3",
      "display_name": "Python 3"
    },
    "language_info": {
      "name": "python"
    }
  },
  "cells": [
    {
      "cell_type": "markdown",
      "source": [
        "Write a Python program that takes an integer as input and prints \"Even\" if it's an even number and \"Odd\" if it's an odd number.\n",
        "\n"
      ],
      "metadata": {
        "id": "_EF7fyYgqUHw"
      }
    },
    {
      "cell_type": "code",
      "execution_count": null,
      "metadata": {
        "colab": {
          "base_uri": "https://localhost:8080/"
        },
        "id": "uS-o6D40qTQS",
        "outputId": "aa5952fb-d3a5-46f2-883c-9936e158f8fc"
      },
      "outputs": [
        {
          "output_type": "stream",
          "name": "stdout",
          "text": [
            "Enter an integer: 2\n",
            "Even\n"
          ]
        }
      ],
      "source": [
        "# Get user input as an integer\n",
        "num = int(input(\"Enter an integer: \"))\n",
        "\n",
        "# Check if the number is even or odd\n",
        "if num % 2 == 0:\n",
        "    print(\"Even\")\n",
        "else:\n",
        "    print(\"Odd\")"
      ]
    },
    {
      "cell_type": "markdown",
      "source": [
        "Create a program that checks whether a given year is a leap year or not. A leap year is divisible by 4, except for years that are divisible by 100 but not by 400."
      ],
      "metadata": {
        "id": "auwxOB8MqfiN"
      }
    },
    {
      "cell_type": "code",
      "source": [
        "# Get the year as input from the user\n",
        "year = int(input(\"Enter a year: \"))\n",
        "\n",
        "# Check if it's a leap year\n",
        "if (year % 4 == 0 and year % 100 != 0) or (year % 400 == 0):\n",
        "    print(f\"{year} is a leap year.\")\n",
        "else:\n",
        "    print(f\"{year} is not a leap year.\")"
      ],
      "metadata": {
        "colab": {
          "base_uri": "https://localhost:8080/"
        },
        "id": "QPZFKaNiqY2V",
        "outputId": "95287b06-2e2f-4d8c-f9d8-41f5acd7fee1"
      },
      "execution_count": null,
      "outputs": [
        {
          "output_type": "stream",
          "name": "stdout",
          "text": [
            "Enter a year: 1900\n",
            "1900 is not a leap year.\n"
          ]
        }
      ]
    },
    {
      "cell_type": "markdown",
      "source": [
        "Write a program that prompts the user to enter their age and then tells them whether they are a child (0-12), teenager (13-19), adult (20-64), or senior (65+)."
      ],
      "metadata": {
        "id": "2O-YpUCRrEjY"
      }
    },
    {
      "cell_type": "code",
      "source": [
        "# Get the age as input from the user\n",
        "age = int(input(\"Enter your age: \"))\n",
        "\n",
        "# Categorize the age\n",
        "if age < 0:\n",
        "    print(\"Invalid age. Please enter a valid age.\")\n",
        "elif age <= 12:\n",
        "    print(\"You are a child.\")\n",
        "elif age <= 19:\n",
        "    print(\"You are a teenager.\")\n",
        "elif age <= 64:\n",
        "    print(\"You are an adult.\")\n",
        "else:\n",
        "    print(\"You are a senior.\")"
      ],
      "metadata": {
        "colab": {
          "base_uri": "https://localhost:8080/"
        },
        "id": "qfFJ94QBqvkh",
        "outputId": "c3dcc4c5-755b-4ac3-dea7-57b79c02bfd7"
      },
      "execution_count": null,
      "outputs": [
        {
          "output_type": "stream",
          "name": "stdout",
          "text": [
            "Enter your age: 35\n",
            "You are an adult.\n"
          ]
        }
      ]
    },
    {
      "cell_type": "markdown",
      "source": [
        "Write a program that calculates the cost of a movie ticket based on the age of the viewer. Tickets for children (age <= 12) cost \\$5, tickets for adults (age 13-64) cost \\$10, and tickets for seniors (age >= 65) cost \\$7.\n",
        "\n"
      ],
      "metadata": {
        "id": "BlWSz7JarSwP"
      }
    },
    {
      "cell_type": "code",
      "source": [
        "# Get the age as input from the user\n",
        "age = int(input(\"Enter your age: \"))\n",
        "\n",
        "# Calculate the ticket cost based on age\n",
        "if age <= 12:\n",
        "    ticket_cost = 5\n",
        "elif age >= 65:\n",
        "    ticket_cost = 7\n",
        "else:\n",
        "    ticket_cost = 10\n",
        "\n",
        "# Print the ticket cost\n",
        "print(f\"The ticket cost for a {age}-year-old is ${ticket_cost}.\")"
      ],
      "metadata": {
        "colab": {
          "base_uri": "https://localhost:8080/"
        },
        "id": "3R8p_Kwoq_tl",
        "outputId": "bc6a51f7-f51e-4c2c-fe1f-9d91881f1ee5"
      },
      "execution_count": null,
      "outputs": [
        {
          "output_type": "stream",
          "name": "stdout",
          "text": [
            "Enter your age: 7\n",
            "The ticket cost for a 7-year-old is $5.\n"
          ]
        }
      ]
    },
    {
      "cell_type": "markdown",
      "source": [
        "Create a program that takes a user's exam score as input (out of 100) and prints their grade according to the following scale:\n",
        "90-100: A\n",
        "80-89: B\n",
        "70-79: C\n",
        "60-69: D\n",
        "Below 60: F"
      ],
      "metadata": {
        "id": "tzTuCC5Vr0cx"
      }
    },
    {
      "cell_type": "code",
      "source": [
        "# Get the exam score as input from the user\n",
        "score = int(input(\"Enter your exam score (out of 100): \"))\n",
        "\n",
        "# Determine the grade based on the score\n",
        "if score >= 90 and score <= 100:\n",
        "    grade = \"A\"\n",
        "elif score >= 80 and score < 90:\n",
        "    grade = \"B\"\n",
        "elif score >= 70 and score < 80:\n",
        "    grade = \"C\"\n",
        "elif score >= 60 and score < 70:\n",
        "    grade = \"D\"\n",
        "else:\n",
        "    grade = \"F\"\n",
        "\n",
        "# Print the grade\n",
        "print(f\"Your grade is: {grade}\")"
      ],
      "metadata": {
        "colab": {
          "base_uri": "https://localhost:8080/"
        },
        "id": "oqyZONqIre_U",
        "outputId": "65050bbc-eade-4ff6-d36c-3853d80e8985"
      },
      "execution_count": null,
      "outputs": [
        {
          "output_type": "stream",
          "name": "stdout",
          "text": [
            "Enter your exam score (out of 100): 82\n",
            "Your grade is: B\n"
          ]
        }
      ]
    },
    {
      "cell_type": "markdown",
      "source": [
        "Create a program that asks the user for the lengths of three sides of a triangle and determines whether the triangle is equilateral (all sides are equal), isosceles (two sides are equal), or scalene (no sides are equal).\n",
        "\n"
      ],
      "metadata": {
        "id": "AFLYBSvVsHPL"
      }
    },
    {
      "cell_type": "code",
      "source": [
        "# Get the lengths of the three sides from the user\n",
        "side1 = float(input(\"Enter the length of the first side: \"))\n",
        "side2 = float(input(\"Enter the length of the second side: \"))\n",
        "side3 = float(input(\"Enter the length of the third side: \"))\n",
        "\n",
        "# Check the type of triangle\n",
        "if side1 == side2 == side3:\n",
        "    triangle_type = \"Equilateral\"\n",
        "elif side1 == side2 or side1 == side3 or side2 == side3:\n",
        "    triangle_type = \"Isosceles\"\n",
        "else:\n",
        "    triangle_type = \"Scalene\"\n",
        "\n",
        "# Print the type of triangle\n",
        "print(f\"The triangle is {triangle_type}.\")"
      ],
      "metadata": {
        "colab": {
          "base_uri": "https://localhost:8080/"
        },
        "id": "FSa2FpCJruiH",
        "outputId": "f6cfb319-8da9-4654-f545-83186fcfaada"
      },
      "execution_count": null,
      "outputs": [
        {
          "output_type": "stream",
          "name": "stdout",
          "text": [
            "Enter the length of the first side: 32\n",
            "Enter the length of the second side: 42\n",
            "Enter the length of the third side: 52\n",
            "The triangle is Scalene.\n"
          ]
        }
      ]
    },
    {
      "cell_type": "markdown",
      "source": [
        "Write a Python program that prompts the user to enter a month (as a number) and a year. Then, determine and display the number of days in that month. Consider leap years when February has 29 days.\n",
        "\n"
      ],
      "metadata": {
        "id": "NJerDvtTsPkT"
      }
    },
    {
      "cell_type": "code",
      "source": [
        "# Get the month and year as input from the user\n",
        "month = int(input(\"Enter a month (as a number, e.g., 1 for January): \"))\n",
        "year = int(input(\"Enter a year: \"))\n",
        "\n",
        "# Define a dictionary to map month numbers to their respective names and days\n",
        "month_days = {\n",
        "    1: (\"January\", 31),\n",
        "    2: (\"February\", 29 if (year % 4 == 0 and year % 100 != 0) or (year % 400 == 0) else 28),\n",
        "    3: (\"March\", 31),\n",
        "    4: (\"April\", 30),\n",
        "    5: (\"May\", 31),\n",
        "    6: (\"June\", 30),\n",
        "    7: (\"July\", 31),\n",
        "    8: (\"August\", 31),\n",
        "    9: (\"September\", 30),\n",
        "    10: (\"October\", 31),\n",
        "    11: (\"November\", 30),\n",
        "    12: (\"December\", 31),\n",
        "}\n",
        "\n",
        "# Check if the entered month is valid\n",
        "if month in month_days:\n",
        "    month_name, days = month_days[month]\n",
        "    print(f\"{month_name} {year} has {days} days.\")\n",
        "else:\n",
        "    print(\"Invalid month. Please enter a valid month (1-12).\")"
      ],
      "metadata": {
        "colab": {
          "base_uri": "https://localhost:8080/"
        },
        "id": "ed7lMAKBsJsh",
        "outputId": "5e71e716-3680-49ce-f740-ee56729de890"
      },
      "execution_count": null,
      "outputs": [
        {
          "output_type": "stream",
          "name": "stdout",
          "text": [
            "Enter a month (as a number, e.g., 1 for January): 2\n",
            "Enter a year: 2023\n",
            "February 2023 has 28 days.\n"
          ]
        }
      ]
    },
    {
      "cell_type": "markdown",
      "source": [
        "Write a program that takes a user's age and whether they have a driver's license as input. If the user is 18 or older and has a driver's license, print \"You can drive.\" Otherwise, print \"You cannot drive.\"\n",
        "\n"
      ],
      "metadata": {
        "id": "eNWbpoqVtkpj"
      }
    },
    {
      "cell_type": "code",
      "source": [
        "# Get the user's age as input\n",
        "age = int(input(\"Enter your age: \"))\n",
        "\n",
        "# Get information about the driver's license\n",
        "has_license = input(\"Do you have a driver's license? (yes/no): \").lower()\n",
        "\n",
        "# Check if the user can drive\n",
        "if age >= 18 and has_license == 'yes':\n",
        "    print(\"You can drive.\")\n",
        "else:\n",
        "    print(\"You cannot drive.\")\n"
      ],
      "metadata": {
        "colab": {
          "base_uri": "https://localhost:8080/"
        },
        "id": "Mx4GkLrotVvv",
        "outputId": "b4746668-c486-4daa-fee9-9f58a7844d39"
      },
      "execution_count": null,
      "outputs": [
        {
          "output_type": "stream",
          "name": "stdout",
          "text": [
            "Enter your age: 35\n",
            "Do you have a driver's license? (yes/no): no\n",
            "You cannot drive.\n"
          ]
        }
      ]
    },
    {
      "cell_type": "markdown",
      "source": [
        "Write a program that takes three numbers as input and finds the largest among them using conditional statements.\n",
        "\n"
      ],
      "metadata": {
        "id": "JFCMa9nFtxrH"
      }
    },
    {
      "cell_type": "code",
      "source": [
        "# Get three numbers as input from the user\n",
        "num1 = float(input(\"Enter the first number: \"))\n",
        "num2 = float(input(\"Enter the second number: \"))\n",
        "num3 = float(input(\"Enter the third number: \"))\n",
        "\n",
        "# Initialize a variable to store the largest number\n",
        "largest = num1\n",
        "\n",
        "# Compare num2 and num3 to find the largest\n",
        "if num2 > largest:\n",
        "    largest = num2\n",
        "\n",
        "if num3 > largest:\n",
        "    largest = num3\n",
        "\n",
        "# Print the largest number\n",
        "print(f\"The largest number among {num1}, {num2}, and {num3} is {largest}.\")"
      ],
      "metadata": {
        "colab": {
          "base_uri": "https://localhost:8080/"
        },
        "id": "R9TFfeJRtmym",
        "outputId": "3dbb3233-0748-4b4a-a0b7-e901a1485ba2"
      },
      "execution_count": null,
      "outputs": [
        {
          "output_type": "stream",
          "name": "stdout",
          "text": [
            "Enter the first number: 5\n",
            "Enter the second number: 8\n",
            "Enter the third number: 9\n",
            "The largest number among 5.0, 8.0, and 9.0 is 9.0.\n"
          ]
        }
      ]
    },
    {
      "cell_type": "markdown",
      "source": [
        "Create a program that asks the user to enter their age. However, anticipate that the user might enter their age as a non-numeric value (e.g., text). Use a try and except block to handle this potential error. If the user enters a non-numeric value, inform them of the error. If the user enters a numeric value, determine and print whether they are a child (0-12 years), a teenager (13-19 years), an adult (20-64 years), or a senior (65 years and older) based on their age using conditional statements.\n",
        "\n"
      ],
      "metadata": {
        "id": "q8hN-ndLuFxi"
      }
    },
    {
      "cell_type": "code",
      "source": [
        "# Use a try-except block to handle potential non-numeric input\n",
        "try:\n",
        "    # Get the age as input from the user\n",
        "    age = int(input(\"Enter your age: \"))\n",
        "\n",
        "    # Check if the age is in the valid range\n",
        "    if age < 0:\n",
        "        print(\"Invalid age. Age cannot be negative.\")\n",
        "    else:\n",
        "        # Determine and print the age category\n",
        "        if age <= 12:\n",
        "            print(\"You are a child.\")\n",
        "        elif age <= 19:\n",
        "            print(\"You are a teenager.\")\n",
        "        elif age <= 64:\n",
        "            print(\"You are an adult.\")\n",
        "        else:\n",
        "            print(\"You are a senior.\")\n",
        "except ValueError:\n",
        "    print(\"Invalid input. Please enter a numeric age.\")"
      ],
      "metadata": {
        "colab": {
          "base_uri": "https://localhost:8080/"
        },
        "id": "Dp54Asjpt0Mv",
        "outputId": "ebe4910d-ec52-41da-cb2d-ecfd38d39697"
      },
      "execution_count": null,
      "outputs": [
        {
          "output_type": "stream",
          "name": "stdout",
          "text": [
            "Enter your age: 35\n",
            "You are an adult.\n"
          ]
        }
      ]
    },
    {
      "cell_type": "markdown",
      "source": [
        "Write a program that takes a number as input and calculates the square root of the number. Use a try-except block to handle cases where the input is negative or not a number, and display an appropriate error message.\n"
      ],
      "metadata": {
        "id": "6GlivH5-u8a1"
      }
    },
    {
      "cell_type": "code",
      "source": [
        "import math\n",
        "\n",
        "try:\n",
        "    # Get the number as input from the user\n",
        "    num = float(input(\"Enter a number: \"))\n",
        "\n",
        "    # Check if the number is non-negative\n",
        "    if num >= 0:\n",
        "        # Calculate and print the square root\n",
        "        square_root = math.sqrt(num)\n",
        "        print(f\"The square root of {num} is {square_root:.2f}\")\n",
        "    else:\n",
        "        print(\"Error: Please enter a non-negative number.\")\n",
        "except ValueError:\n",
        "    print(\"Error: Invalid input. Please enter a valid number.\")"
      ],
      "metadata": {
        "colab": {
          "base_uri": "https://localhost:8080/"
        },
        "id": "H0hGPfsYuH6a",
        "outputId": "96e71bdd-50fa-40ba-f2b2-fd7672786c0e"
      },
      "execution_count": null,
      "outputs": [
        {
          "output_type": "stream",
          "name": "stdout",
          "text": [
            "Enter a number: -8\n",
            "Error: Please enter a non-negative number.\n"
          ]
        }
      ]
    },
    {
      "cell_type": "markdown",
      "source": [
        "Create a program that takes the user's age as input and calculates the square of their age. Use a try-except block to catch any input errors, such as non-numeric input, and inform the user about the error.\n"
      ],
      "metadata": {
        "id": "Gz05c1nxvMS1"
      }
    },
    {
      "cell_type": "code",
      "source": [
        "try:\n",
        "    # Get the user's age as input\n",
        "    age = float(input(\"Enter your age: \"))\n",
        "\n",
        "    # Calculate the square of the age\n",
        "    age_squared = age * age\n",
        "\n",
        "    # Print the result\n",
        "    print(f\"The square of your age is {age_squared:.2f}\")\n",
        "except ValueError:\n",
        "    print(\"Error: Invalid input. Please enter a valid number for your age.\")"
      ],
      "metadata": {
        "colab": {
          "base_uri": "https://localhost:8080/"
        },
        "id": "n5PgNqpxu1rA",
        "outputId": "80964b08-1958-4dd9-c783-a7bbb56157a3"
      },
      "execution_count": null,
      "outputs": [
        {
          "output_type": "stream",
          "name": "stdout",
          "text": [
            "Enter your age: thirty \n",
            "Error: Invalid input. Please enter a valid number for your age.\n"
          ]
        }
      ]
    },
    {
      "cell_type": "markdown",
      "source": [
        "Write a program that prompts the user to enter a temperature in Celsius and converts it to Fahrenheit. Use a try-except block to handle cases where the input is not a valid number.\n",
        "\n"
      ],
      "metadata": {
        "id": "e63slpUXvU9V"
      }
    },
    {
      "cell_type": "code",
      "source": [
        "try:\n",
        "    # Get the temperature in Celsius as input from the user\n",
        "    celsius = float(input(\"Enter the temperature in Celsius: \"))\n",
        "\n",
        "    # Convert Celsius to Fahrenheit\n",
        "    fahrenheit = (celsius * 9/5) + 32\n",
        "\n",
        "    # Print the result\n",
        "    print(f\"{celsius} degrees Celsius is equal to {fahrenheit:.2f} degrees Fahrenheit.\")\n",
        "except ValueError:\n",
        "    print(\"Error: Invalid input. Please enter a valid number for the temperature in Celsius.\")"
      ],
      "metadata": {
        "colab": {
          "base_uri": "https://localhost:8080/"
        },
        "id": "yK3QrAXdvF7t",
        "outputId": "7af1114d-512f-468c-97b2-10cb4e5c0612"
      },
      "execution_count": null,
      "outputs": [
        {
          "output_type": "stream",
          "name": "stdout",
          "text": [
            "Enter the temperature in Celsius: 96\n",
            "96.0 degrees Celsius is equal to 204.80 degrees Fahrenheit.\n"
          ]
        }
      ]
    },
    {
      "cell_type": "markdown",
      "source": [
        "Build a program that takes a string input from the user and attempts to convert it to an integer. Handle any ValueError exceptions that might occur and print an error message when non-numeric input is provided.\n",
        "\n"
      ],
      "metadata": {
        "id": "df3Yvhq6vk4U"
      }
    },
    {
      "cell_type": "code",
      "source": [
        "try:\n",
        "    # Get a string input from the user\n",
        "    user_input = input(\"Enter a number: \")\n",
        "\n",
        "    # Attempt to convert the input to an integer\n",
        "    number = int(user_input)\n",
        "\n",
        "    # If successful, print the integer\n",
        "    print(f\"You entered the integer: {number}\")\n",
        "except ValueError:\n",
        "    print(\"Error: Invalid input. Please enter a valid integer.\")"
      ],
      "metadata": {
        "colab": {
          "base_uri": "https://localhost:8080/"
        },
        "id": "rFxFdUuNvZZ1",
        "outputId": "b25b5d17-3428-427f-d233-920aeea6bcc1"
      },
      "execution_count": null,
      "outputs": [
        {
          "output_type": "stream",
          "name": "stdout",
          "text": [
            "Enter a number: 53\n",
            "You entered the integer: 53\n"
          ]
        }
      ]
    },
    {
      "cell_type": "markdown",
      "source": [
        "Create a program that asks the user for their birth year and calculates their age. Use a try-except block to handle cases where the input is not a valid year or cannot be converted to an integer.\n",
        "\n"
      ],
      "metadata": {
        "id": "YoLBZbs8vtJH"
      }
    },
    {
      "cell_type": "code",
      "source": [
        "import datetime\n",
        "\n",
        "try:\n",
        "    # Get the birth year as input from the user\n",
        "    birth_year = input(\"Enter your birth year: \")\n",
        "\n",
        "    # Attempt to convert the input to an integer\n",
        "    birth_year = int(birth_year)\n",
        "\n",
        "    # Get the current year\n",
        "    current_year = datetime.datetime.now().year\n",
        "\n",
        "    # Calculate the user's age\n",
        "    age = current_year - birth_year\n",
        "\n",
        "    # Print the age\n",
        "    print(f\"Your age is {age} years.\")\n",
        "except ValueError:\n",
        "    print(\"Error: Invalid input. Please enter a valid birth year as a number.\")\n"
      ],
      "metadata": {
        "colab": {
          "base_uri": "https://localhost:8080/"
        },
        "id": "vTr5dAF2vm8K",
        "outputId": "dea92c50-128d-4291-8126-cf592f58af47"
      },
      "execution_count": null,
      "outputs": [
        {
          "output_type": "stream",
          "name": "stdout",
          "text": [
            "Enter your birth year: 1986\n",
            "Your age is 37 years.\n"
          ]
        }
      ]
    },
    {
      "cell_type": "markdown",
      "source": [
        "Write a program that reads a file path from the user and tries to open and read the contents of the file. Handle the FileNotFoundError using a try-except block and display a message indicating that the file could not be found.\n",
        "\n"
      ],
      "metadata": {
        "id": "yGya93BpwCWZ"
      }
    },
    {
      "cell_type": "code",
      "source": [
        "try:\n",
        "    # Get the file path as input from the user\n",
        "    file_path = input(\"Enter the file path: \")\n",
        "\n",
        "    # Try to open and read the file\n",
        "    with open(file_path, 'r') as file:\n",
        "        file_contents = file.read()\n",
        "\n",
        "    # Print the file contents\n",
        "    print(f\"Contents of the file '{file_path}':\")\n",
        "    print(file_contents)\n",
        "except FileNotFoundError:\n",
        "    print(f\"Error: The file '{file_path}' could not be found.\")\n",
        "except Exception as e:\n",
        "    print(f\"An error occurred: {e}\")\n"
      ],
      "metadata": {
        "colab": {
          "base_uri": "https://localhost:8080/"
        },
        "id": "F14moixNv1rf",
        "outputId": "dc60e0dd-10e6-425d-c0ef-61c5fe916837"
      },
      "execution_count": null,
      "outputs": [
        {
          "output_type": "stream",
          "name": "stdout",
          "text": [
            "Enter the file path: C:desktop\n",
            "Error: The file 'C:desktop' could not be found.\n"
          ]
        }
      ]
    },
    {
      "cell_type": "markdown",
      "source": [
        "Build a program that calculates the area of a rectangle. Ask the user for the length and width of the rectangle, and use a try-except block to handle cases where the input is not a valid number.\n",
        "\n"
      ],
      "metadata": {
        "id": "eTyE30eSwRoD"
      }
    },
    {
      "cell_type": "code",
      "source": [
        "try:\n",
        "    # Get the length and width of the rectangle as input from the user\n",
        "    length = float(input(\"Enter the length of the rectangle: \"))\n",
        "    width = float(input(\"Enter the width of the rectangle: \"))\n",
        "\n",
        "    # Calculate the area\n",
        "    area = length * width\n",
        "\n",
        "    # Print the area\n",
        "    print(f\"The area of the rectangle is {area:.2f} square units.\")\n",
        "except ValueError:\n",
        "    print(\"Error: Invalid input. Please enter valid numbers for the length and width.\")\n"
      ],
      "metadata": {
        "colab": {
          "base_uri": "https://localhost:8080/"
        },
        "id": "qdDHWUhTwEh1",
        "outputId": "c9441897-0164-4d30-c578-5620227d3882"
      },
      "execution_count": null,
      "outputs": [
        {
          "output_type": "stream",
          "name": "stdout",
          "text": [
            "Enter the length of the rectangle: forty\n",
            "Error: Invalid input. Please enter valid numbers for the length and width.\n"
          ]
        }
      ]
    },
    {
      "cell_type": "markdown",
      "source": [
        "Create a program that takes a numerical grade as input and converts it to a letter grade (A, B, C, D, F). Use a try-except block to catch any input errors and display an error message if the input is not within the valid range."
      ],
      "metadata": {
        "id": "Ahjc0svQwkzu"
      }
    },
    {
      "cell_type": "code",
      "source": [
        "try:\n",
        "    # Get the numerical grade as input from the user\n",
        "    numerical_grade = float(input(\"Enter your numerical grade: \"))\n",
        "\n",
        "    # Check if the numerical grade is within the valid range\n",
        "    if 0 <= numerical_grade <= 100:\n",
        "        # Convert the numerical grade to a letter grade\n",
        "        if numerical_grade >= 90:\n",
        "            letter_grade = \"A\"\n",
        "        elif numerical_grade >= 80:\n",
        "            letter_grade = \"B\"\n",
        "        elif numerical_grade >= 70:\n",
        "            letter_grade = \"C\"\n",
        "        elif numerical_grade >= 60:\n",
        "            letter_grade = \"D\"\n",
        "        else:\n",
        "            letter_grade = \"F\"\n",
        "\n",
        "        # Print the letter grade\n",
        "        print(f\"Your letter grade is {letter_grade}\")\n",
        "    else:\n",
        "        print(\"Error: Invalid input. Please enter a numerical grade between 0 and 100.\")\n",
        "except ValueError:\n",
        "    print(\"Error: Invalid input. Please enter a valid numerical grade.\")"
      ],
      "metadata": {
        "colab": {
          "base_uri": "https://localhost:8080/"
        },
        "id": "MD6spNm9wT1B",
        "outputId": "0d04e0de-63c1-4496-a9dd-f1570210d418"
      },
      "execution_count": null,
      "outputs": [
        {
          "output_type": "stream",
          "name": "stdout",
          "text": [
            "Enter your numerical grade: 56\n",
            "Your letter grade is F\n"
          ]
        }
      ]
    },
    {
      "cell_type": "code",
      "source": [],
      "metadata": {
        "id": "H9ykaomlwn1t"
      },
      "execution_count": null,
      "outputs": []
    }
  ]
}