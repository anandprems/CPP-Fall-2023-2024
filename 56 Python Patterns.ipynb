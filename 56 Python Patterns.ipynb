{
  "nbformat": 4,
  "nbformat_minor": 0,
  "metadata": {
    "colab": {
      "provenance": []
    },
    "kernelspec": {
      "name": "python3",
      "display_name": "Python 3"
    },
    "language_info": {
      "name": "python"
    }
  },
  "cells": [
    {
      "cell_type": "code",
      "execution_count": null,
      "metadata": {
        "colab": {
          "base_uri": "https://localhost:8080/"
        },
        "id": "KooWpMFYQINr",
        "outputId": "9238c1ac-c05a-43c5-9a39-d9ebc966e163"
      },
      "outputs": [
        {
          "output_type": "stream",
          "name": "stdout",
          "text": [
            "* \n",
            "* * \n",
            "* * * \n",
            "* * * * \n",
            "* * * * * \n"
          ]
        }
      ],
      "source": [
        "#right half pattern\n",
        "rows = 5\n",
        "\n",
        "for i in range(1, rows + 1):\n",
        "    for j in range(1, i + 1):\n",
        "        print(\"*\", end=\" \")\n",
        "    print()"
      ]
    },
    {
      "cell_type": "code",
      "source": [
        "#right half pattern\n",
        "rows = 5\n",
        "\n",
        "for i in range(1, rows + 1):\n",
        "    for j in range(1, i + 1):\n",
        "        print(j, end=\" \")\n",
        "    print()"
      ],
      "metadata": {
        "colab": {
          "base_uri": "https://localhost:8080/"
        },
        "id": "1iK9Kld0QWhO",
        "outputId": "cd3e03f6-8dc7-40f1-de21-8ecf8339a27d"
      },
      "execution_count": null,
      "outputs": [
        {
          "output_type": "stream",
          "name": "stdout",
          "text": [
            "1 \n",
            "1 2 \n",
            "1 2 3 \n",
            "1 2 3 4 \n",
            "1 2 3 4 5 \n"
          ]
        }
      ]
    },
    {
      "cell_type": "code",
      "source": [
        "# left half pattern\n",
        "rows = 5\n",
        "\n",
        "for i in range(1, rows + 1):\n",
        "    for j in range(1, rows - i + 1):\n",
        "        print(\" \", end=\" \")\n",
        "    for j in range(1, i + 1):\n",
        "        print(\"*\", end=\" \")\n",
        "    print()"
      ],
      "metadata": {
        "colab": {
          "base_uri": "https://localhost:8080/"
        },
        "id": "wzcai3UoQZpI",
        "outputId": "d5279074-ff7d-4b40-8333-e248a0021a89"
      },
      "execution_count": null,
      "outputs": [
        {
          "output_type": "stream",
          "name": "stdout",
          "text": [
            "        * \n",
            "      * * \n",
            "    * * * \n",
            "  * * * * \n",
            "* * * * * \n"
          ]
        }
      ]
    },
    {
      "cell_type": "code",
      "source": [
        "# left half pattern\n",
        "rows = 5\n",
        "\n",
        "for i in range(1, rows + 1):\n",
        "    for j in range(1, rows - i + 1):\n",
        "        print(\" \", end=\" \")\n",
        "    for j in range(1, i + 1):\n",
        "        print(j, end=\" \")\n",
        "    print()"
      ],
      "metadata": {
        "colab": {
          "base_uri": "https://localhost:8080/"
        },
        "id": "Qjm-PjVgQmoV",
        "outputId": "f59a824d-4c7a-47e9-9732-c8d77a17fa89"
      },
      "execution_count": null,
      "outputs": [
        {
          "output_type": "stream",
          "name": "stdout",
          "text": [
            "        1 \n",
            "      1 2 \n",
            "    1 2 3 \n",
            "  1 2 3 4 \n",
            "1 2 3 4 5 \n"
          ]
        }
      ]
    },
    {
      "cell_type": "code",
      "source": [
        "# full pyramid *\n",
        "rows = 5\n",
        "\n",
        "for i in range(1, rows + 1):\n",
        "    # Print leading spaces\n",
        "    for j in range(1, rows - i + 1):\n",
        "        print(\" \", end=\" \")\n",
        "\n",
        "    # Print asterisks\n",
        "    for j in range(1, 2 * i):\n",
        "        print(\"*\", end=\" \")\n",
        "\n",
        "    # Move to the next line for the next row\n",
        "    print()"
      ],
      "metadata": {
        "colab": {
          "base_uri": "https://localhost:8080/"
        },
        "id": "EkMlUuLmQzVY",
        "outputId": "55135667-ad96-4011-bfaf-e351d45ef972"
      },
      "execution_count": null,
      "outputs": [
        {
          "output_type": "stream",
          "name": "stdout",
          "text": [
            "        * \n",
            "      * * * \n",
            "    * * * * * \n",
            "  * * * * * * * \n",
            "* * * * * * * * * \n"
          ]
        }
      ]
    },
    {
      "cell_type": "code",
      "source": [
        "# full pyramid *\n",
        "rows = 5\n",
        "\n",
        "for i in range(1, rows + 1):\n",
        "    # Print leading spaces\n",
        "    for j in range(1, rows - i + 1):\n",
        "        print(\" \", end=\" \")\n",
        "\n",
        "    # Print asterisks\n",
        "    for j in range(1, 2 * i):\n",
        "        print(j, end=\" \")\n",
        "\n",
        "    # Move to the next line for the next row\n",
        "    print()"
      ],
      "metadata": {
        "colab": {
          "base_uri": "https://localhost:8080/"
        },
        "id": "v4jndtqcRqPy",
        "outputId": "f348bf57-f722-43e0-99ab-5bdea1fe5d13"
      },
      "execution_count": null,
      "outputs": [
        {
          "output_type": "stream",
          "name": "stdout",
          "text": [
            "        1 \n",
            "      1 2 3 \n",
            "    1 2 3 4 5 \n",
            "  1 2 3 4 5 6 7 \n",
            "1 2 3 4 5 6 7 8 9 \n"
          ]
        }
      ]
    },
    {
      "cell_type": "code",
      "source": [
        "#inverse left pyramid *\n",
        "rows = 5\n",
        "\n",
        "for i in range(rows, 0, -1):\n",
        "    for j in range(i, 0, -1):\n",
        "        print(\"*\", end=\" \")\n",
        "    print()"
      ],
      "metadata": {
        "colab": {
          "base_uri": "https://localhost:8080/"
        },
        "id": "0Ktc2wKsRt-2",
        "outputId": "a2e40d7e-73d9-4704-e465-1072f17e5ab1"
      },
      "execution_count": null,
      "outputs": [
        {
          "output_type": "stream",
          "name": "stdout",
          "text": [
            "* * * * * \n",
            "* * * * \n",
            "* * * \n",
            "* * \n",
            "* \n"
          ]
        }
      ]
    },
    {
      "cell_type": "code",
      "source": [
        "#inverse left pyramid *\n",
        "rows = 5\n",
        "\n",
        "for i in range(rows, 0, -1):\n",
        "    for j in range(i, 0, -1):\n",
        "        print(j, end=\" \")\n",
        "    print()"
      ],
      "metadata": {
        "colab": {
          "base_uri": "https://localhost:8080/"
        },
        "id": "DC7VChqCR7WF",
        "outputId": "723d88fc-8d61-44d6-c842-bcbd7634a350"
      },
      "execution_count": null,
      "outputs": [
        {
          "output_type": "stream",
          "name": "stdout",
          "text": [
            "5 4 3 2 1 \n",
            "4 3 2 1 \n",
            "3 2 1 \n",
            "2 1 \n",
            "1 \n"
          ]
        }
      ]
    },
    {
      "cell_type": "code",
      "source": [
        "#inverse right pattern\n",
        "rows = 5\n",
        "\n",
        "for i in range(1, rows + 1):\n",
        "    for j in range(1, i):\n",
        "        print(\" \", end=\" \")\n",
        "    for j in range(i, rows + 1):\n",
        "        print(\"*\", end=\" \")\n",
        "    print()"
      ],
      "metadata": {
        "colab": {
          "base_uri": "https://localhost:8080/"
        },
        "id": "awndYG5qSCCX",
        "outputId": "c19a2748-7da7-4a03-d7c6-a93e9cc97769"
      },
      "execution_count": null,
      "outputs": [
        {
          "output_type": "stream",
          "name": "stdout",
          "text": [
            "* * * * * \n",
            "  * * * * \n",
            "    * * * \n",
            "      * * \n",
            "        * \n"
          ]
        }
      ]
    },
    {
      "cell_type": "code",
      "source": [
        "#inverse right pattern\n",
        "rows = 5\n",
        "\n",
        "for i in range(1, rows + 1):\n",
        "    for j in range(1, i):\n",
        "        print(\" \", end=\" \")\n",
        "    for j in range(i, rows + 1):\n",
        "        print(j, end=\" \")\n",
        "    print()"
      ],
      "metadata": {
        "colab": {
          "base_uri": "https://localhost:8080/"
        },
        "id": "Iwhy7ySUSLf_",
        "outputId": "6547b0b6-ca04-43be-c0a0-5ecc34e3024e"
      },
      "execution_count": null,
      "outputs": [
        {
          "output_type": "stream",
          "name": "stdout",
          "text": [
            "1 2 3 4 5 \n",
            "  2 3 4 5 \n",
            "    3 4 5 \n",
            "      4 5 \n",
            "        5 \n"
          ]
        }
      ]
    },
    {
      "cell_type": "code",
      "source": [
        "# inverse full *\n",
        "rows = 5\n",
        "\n",
        "for i in range(rows, 0, -1):\n",
        "    for j in range(rows - i):\n",
        "        print(\" \", end=\" \")\n",
        "    for j in range(1, 2 * i):\n",
        "        print(\"*\", end=\" \")\n",
        "    print()"
      ],
      "metadata": {
        "colab": {
          "base_uri": "https://localhost:8080/"
        },
        "id": "gR19AOO_SQTm",
        "outputId": "e55bfd61-a86e-4e5d-c40e-30be0610df21"
      },
      "execution_count": null,
      "outputs": [
        {
          "output_type": "stream",
          "name": "stdout",
          "text": [
            "* * * * * * * * * \n",
            "  * * * * * * * \n",
            "    * * * * * \n",
            "      * * * \n",
            "        * \n"
          ]
        }
      ]
    },
    {
      "cell_type": "code",
      "source": [
        "# inverse full\n",
        "rows = 5\n",
        "\n",
        "for i in range(rows, 0, -1):\n",
        "    for j in range(rows - i):\n",
        "        print(\" \", end=\" \")\n",
        "    for j in range(1, 2 * i):\n",
        "        print(j, end=\" \")\n",
        "    print()"
      ],
      "metadata": {
        "colab": {
          "base_uri": "https://localhost:8080/"
        },
        "id": "HGfAylu5SZ5B",
        "outputId": "83613860-a040-4934-a19c-9baecaf30eb3"
      },
      "execution_count": null,
      "outputs": [
        {
          "output_type": "stream",
          "name": "stdout",
          "text": [
            "1 2 3 4 5 6 7 8 9 \n",
            "  1 2 3 4 5 6 7 \n",
            "    1 2 3 4 5 \n",
            "      1 2 3 \n",
            "        1 \n"
          ]
        }
      ]
    }
  ]
}